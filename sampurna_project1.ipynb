{
 "cells": [
  {
   "cell_type": "markdown",
   "id": "40dfb162-ec00-47d8-aa47-c2894d03a1ee",
   "metadata": {},
   "source": [
    "# 🔰 Project Goal:\n",
    "Building a Local Food Wastage Management System which uses:\n",
    "postgreSQL as a database\n",
    "python (Jupyter Notebook) for data processing\n",
    "CSV files as raw data sources\n",
    "Eventually possibly Streamlit or other tools for the frontend"
   ]
  },
  {
   "cell_type": "markdown",
   "id": "c4bf70bb-deff-4163-8b05-ca9f8a666f87",
   "metadata": {},
   "source": [
    "# 🧠 WHY pandas is used:\n",
    "pandas is a powerful Python library used for:\n",
    "Reading and writing structured data (like CSV files)\n",
    "Data cleaning and manipulation\n",
    "Converting and formatting values (e.g., date/time)\n",
    "Working with tables (like SQL tables) directly in memory\n",
    "\n",
    "# In this project:\n",
    "Your CSV files (providers_data.csv, etc.) are read using pandas\n",
    "pandas DataFrames let you clean, reformat, and process data before inserting it into PostgreSQL"
   ]
  },
  {
   "cell_type": "markdown",
   "id": "61f4ebc2-ffd5-4d89-9357-86d69781aa50",
   "metadata": {},
   "source": [
    "# 🧮 Data Preparation"
   ]
  },
  {
   "cell_type": "markdown",
   "id": "0f99e000-d24d-4790-bfc2-ab8e6a03c489",
   "metadata": {},
   "source": [
    "### 🛠️ STEP 1: Import Libraries"
   ]
  },
  {
   "cell_type": "code",
   "execution_count": 1397,
   "id": "663af9d0-88db-4702-8dc9-9c17aba8322a",
   "metadata": {},
   "outputs": [],
   "source": [
    "import pandas as pd  # For reading and cleaning CSV data\n",
    "from sqlalchemy import create_engine  # To connect Python to PostgreSQL\n",
    "from sqlalchemy import text"
   ]
  },
  {
   "cell_type": "markdown",
   "id": "a7638448-a051-4def-8e7d-e04e9679d435",
   "metadata": {},
   "source": [
    "### 🧩 STEP 2: Define Database Connection"
   ]
  },
  {
   "cell_type": "code",
   "execution_count": 1400,
   "id": "93d1aa27-4020-43a2-a40e-c3627e5aea37",
   "metadata": {},
   "outputs": [],
   "source": [
    "username = 'postgres'\n",
    "password = 'PASSsql'     \n",
    "host = 'localhost'\n",
    "port = '5432'\n",
    "database = 'food_waste_db'"
   ]
  },
  {
   "cell_type": "markdown",
   "id": "1f0293e8-fa77-4e6e-9e87-0d466820651f",
   "metadata": {},
   "source": [
    "### 🔌 STEP 3: Create SQLAlchemy Engine (Connection)"
   ]
  },
  {
   "cell_type": "code",
   "execution_count": 1403,
   "id": "7a9af554-8934-4d60-b200-485ab6883408",
   "metadata": {},
   "outputs": [],
   "source": [
    "engine = create_engine(f'postgresql://{username}:{password}@{host}:{port}/{database}')"
   ]
  },
  {
   "cell_type": "markdown",
   "id": "94494fc2-d088-4122-bea8-255e0adce0ad",
   "metadata": {},
   "source": [
    "### ✅ Step 4: Load your CSV files"
   ]
  },
  {
   "cell_type": "code",
   "execution_count": 1406,
   "id": "261f8488-c43c-488b-ba2a-c9ebde10c3fe",
   "metadata": {},
   "outputs": [],
   "source": [
    "providers_df = pd.read_csv(\"C:/Users/purni/Desktop/project.py/providers_data.csv\")\n",
    "receivers_df = pd.read_csv(\"C:/Users/purni/Desktop/project.py/receivers_data.csv\")\n",
    "food_listings_df = pd.read_csv(\"C:/Users/purni/Desktop/project.py/food_listings_data.csv\")\n",
    "claims_df = pd.read_csv(\"C:/Users/purni/Desktop/project.py/claims_data.csv\")"
   ]
  },
  {
   "cell_type": "markdown",
   "id": "a256ca61-c918-4bcd-99c4-150cf6dd2457",
   "metadata": {},
   "source": [
    "### ✅ Step 5. Preview the Data"
   ]
  },
  {
   "cell_type": "code",
   "execution_count": 1423,
   "id": "d8582c03-c95a-4c51-80d6-60143051a12e",
   "metadata": {},
   "outputs": [
    {
     "name": "stdout",
     "output_type": "stream",
     "text": [
      "📦 Providers Data:\n"
     ]
    },
    {
     "data": {
      "text/html": [
       "<div>\n",
       "<style scoped>\n",
       "    .dataframe tbody tr th:only-of-type {\n",
       "        vertical-align: middle;\n",
       "    }\n",
       "\n",
       "    .dataframe tbody tr th {\n",
       "        vertical-align: top;\n",
       "    }\n",
       "\n",
       "    .dataframe thead th {\n",
       "        text-align: right;\n",
       "    }\n",
       "</style>\n",
       "<table border=\"1\" class=\"dataframe\">\n",
       "  <thead>\n",
       "    <tr style=\"text-align: right;\">\n",
       "      <th></th>\n",
       "      <th>Provider_ID</th>\n",
       "      <th>Name</th>\n",
       "      <th>Type</th>\n",
       "      <th>Address</th>\n",
       "      <th>City</th>\n",
       "      <th>Contact</th>\n",
       "    </tr>\n",
       "  </thead>\n",
       "  <tbody>\n",
       "    <tr>\n",
       "      <th>0</th>\n",
       "      <td>1</td>\n",
       "      <td>Gonzales-Cochran</td>\n",
       "      <td>Supermarket</td>\n",
       "      <td>74347 Christopher Extensions\\nAndreamouth, OK ...</td>\n",
       "      <td>New Jessica</td>\n",
       "      <td>+1-600-220-0480</td>\n",
       "    </tr>\n",
       "    <tr>\n",
       "      <th>1</th>\n",
       "      <td>2</td>\n",
       "      <td>Nielsen, Johnson and Fuller</td>\n",
       "      <td>Grocery Store</td>\n",
       "      <td>91228 Hanson Stream\\nWelchtown, OR 27136</td>\n",
       "      <td>East Sheena</td>\n",
       "      <td>+1-925-283-8901x6297</td>\n",
       "    </tr>\n",
       "    <tr>\n",
       "      <th>2</th>\n",
       "      <td>3</td>\n",
       "      <td>Miller-Black</td>\n",
       "      <td>Supermarket</td>\n",
       "      <td>561 Martinez Point Suite 507\\nGuzmanchester, W...</td>\n",
       "      <td>Lake Jesusview</td>\n",
       "      <td>001-517-295-2206</td>\n",
       "    </tr>\n",
       "    <tr>\n",
       "      <th>3</th>\n",
       "      <td>4</td>\n",
       "      <td>Clark, Prince and Williams</td>\n",
       "      <td>Grocery Store</td>\n",
       "      <td>467 Bell Trail Suite 409\\nPort Jesus, IA 61188</td>\n",
       "      <td>Mendezmouth</td>\n",
       "      <td>556.944.8935x401</td>\n",
       "    </tr>\n",
       "    <tr>\n",
       "      <th>4</th>\n",
       "      <td>5</td>\n",
       "      <td>Coleman-Farley</td>\n",
       "      <td>Grocery Store</td>\n",
       "      <td>078 Matthew Creek Apt. 319\\nSaraborough, MA 53978</td>\n",
       "      <td>Valentineside</td>\n",
       "      <td>193.714.6577</td>\n",
       "    </tr>\n",
       "  </tbody>\n",
       "</table>\n",
       "</div>"
      ],
      "text/plain": [
       "   Provider_ID                         Name           Type  \\\n",
       "0            1             Gonzales-Cochran    Supermarket   \n",
       "1            2  Nielsen, Johnson and Fuller  Grocery Store   \n",
       "2            3                 Miller-Black    Supermarket   \n",
       "3            4   Clark, Prince and Williams  Grocery Store   \n",
       "4            5               Coleman-Farley  Grocery Store   \n",
       "\n",
       "                                             Address            City  \\\n",
       "0  74347 Christopher Extensions\\nAndreamouth, OK ...     New Jessica   \n",
       "1           91228 Hanson Stream\\nWelchtown, OR 27136     East Sheena   \n",
       "2  561 Martinez Point Suite 507\\nGuzmanchester, W...  Lake Jesusview   \n",
       "3     467 Bell Trail Suite 409\\nPort Jesus, IA 61188     Mendezmouth   \n",
       "4  078 Matthew Creek Apt. 319\\nSaraborough, MA 53978   Valentineside   \n",
       "\n",
       "                Contact  \n",
       "0       +1-600-220-0480  \n",
       "1  +1-925-283-8901x6297  \n",
       "2      001-517-295-2206  \n",
       "3      556.944.8935x401  \n",
       "4          193.714.6577  "
      ]
     },
     "metadata": {},
     "output_type": "display_data"
    },
    {
     "name": "stdout",
     "output_type": "stream",
     "text": [
      "\n",
      "🎯 Receivers Data:\n"
     ]
    },
    {
     "data": {
      "text/html": [
       "<div>\n",
       "<style scoped>\n",
       "    .dataframe tbody tr th:only-of-type {\n",
       "        vertical-align: middle;\n",
       "    }\n",
       "\n",
       "    .dataframe tbody tr th {\n",
       "        vertical-align: top;\n",
       "    }\n",
       "\n",
       "    .dataframe thead th {\n",
       "        text-align: right;\n",
       "    }\n",
       "</style>\n",
       "<table border=\"1\" class=\"dataframe\">\n",
       "  <thead>\n",
       "    <tr style=\"text-align: right;\">\n",
       "      <th></th>\n",
       "      <th>Receiver_ID</th>\n",
       "      <th>Name</th>\n",
       "      <th>Type</th>\n",
       "      <th>City</th>\n",
       "      <th>Contact</th>\n",
       "    </tr>\n",
       "  </thead>\n",
       "  <tbody>\n",
       "    <tr>\n",
       "      <th>0</th>\n",
       "      <td>1</td>\n",
       "      <td>Donald Gomez</td>\n",
       "      <td>Shelter</td>\n",
       "      <td>Port Carlburgh</td>\n",
       "      <td>(955)922-5295</td>\n",
       "    </tr>\n",
       "    <tr>\n",
       "      <th>1</th>\n",
       "      <td>2</td>\n",
       "      <td>Laurie Ramos</td>\n",
       "      <td>Individual</td>\n",
       "      <td>Lewisburgh</td>\n",
       "      <td>761.042.1570</td>\n",
       "    </tr>\n",
       "    <tr>\n",
       "      <th>2</th>\n",
       "      <td>3</td>\n",
       "      <td>Ashley Mckee</td>\n",
       "      <td>NGO</td>\n",
       "      <td>South Randalltown</td>\n",
       "      <td>691-023-0094x856</td>\n",
       "    </tr>\n",
       "    <tr>\n",
       "      <th>3</th>\n",
       "      <td>4</td>\n",
       "      <td>Erika Rose</td>\n",
       "      <td>NGO</td>\n",
       "      <td>South Shaneville</td>\n",
       "      <td>8296491111</td>\n",
       "    </tr>\n",
       "    <tr>\n",
       "      <th>4</th>\n",
       "      <td>5</td>\n",
       "      <td>John Romero</td>\n",
       "      <td>Individual</td>\n",
       "      <td>Bakerport</td>\n",
       "      <td>067.491.0154</td>\n",
       "    </tr>\n",
       "  </tbody>\n",
       "</table>\n",
       "</div>"
      ],
      "text/plain": [
       "   Receiver_ID          Name        Type               City           Contact\n",
       "0            1  Donald Gomez     Shelter     Port Carlburgh     (955)922-5295\n",
       "1            2  Laurie Ramos  Individual         Lewisburgh      761.042.1570\n",
       "2            3  Ashley Mckee         NGO  South Randalltown  691-023-0094x856\n",
       "3            4    Erika Rose         NGO   South Shaneville        8296491111\n",
       "4            5   John Romero  Individual          Bakerport      067.491.0154"
      ]
     },
     "metadata": {},
     "output_type": "display_data"
    },
    {
     "name": "stdout",
     "output_type": "stream",
     "text": [
      "\n",
      "🥗 Food Listings Data:\n"
     ]
    },
    {
     "data": {
      "text/html": [
       "<div>\n",
       "<style scoped>\n",
       "    .dataframe tbody tr th:only-of-type {\n",
       "        vertical-align: middle;\n",
       "    }\n",
       "\n",
       "    .dataframe tbody tr th {\n",
       "        vertical-align: top;\n",
       "    }\n",
       "\n",
       "    .dataframe thead th {\n",
       "        text-align: right;\n",
       "    }\n",
       "</style>\n",
       "<table border=\"1\" class=\"dataframe\">\n",
       "  <thead>\n",
       "    <tr style=\"text-align: right;\">\n",
       "      <th></th>\n",
       "      <th>Food_ID</th>\n",
       "      <th>Food_Name</th>\n",
       "      <th>Quantity</th>\n",
       "      <th>Expiry_Date</th>\n",
       "      <th>Provider_ID</th>\n",
       "      <th>Provider_Type</th>\n",
       "      <th>Location</th>\n",
       "      <th>Food_Type</th>\n",
       "      <th>Meal_Type</th>\n",
       "    </tr>\n",
       "  </thead>\n",
       "  <tbody>\n",
       "    <tr>\n",
       "      <th>0</th>\n",
       "      <td>1</td>\n",
       "      <td>Bread</td>\n",
       "      <td>43</td>\n",
       "      <td>3/17/2025</td>\n",
       "      <td>110</td>\n",
       "      <td>Grocery Store</td>\n",
       "      <td>South Kellyville</td>\n",
       "      <td>Non-Vegetarian</td>\n",
       "      <td>Breakfast</td>\n",
       "    </tr>\n",
       "    <tr>\n",
       "      <th>1</th>\n",
       "      <td>2</td>\n",
       "      <td>Soup</td>\n",
       "      <td>22</td>\n",
       "      <td>3/24/2025</td>\n",
       "      <td>791</td>\n",
       "      <td>Grocery Store</td>\n",
       "      <td>West James</td>\n",
       "      <td>Non-Vegetarian</td>\n",
       "      <td>Dinner</td>\n",
       "    </tr>\n",
       "    <tr>\n",
       "      <th>2</th>\n",
       "      <td>3</td>\n",
       "      <td>Fruits</td>\n",
       "      <td>46</td>\n",
       "      <td>3/28/2025</td>\n",
       "      <td>478</td>\n",
       "      <td>Catering Service</td>\n",
       "      <td>Lake Regina</td>\n",
       "      <td>Vegan</td>\n",
       "      <td>Breakfast</td>\n",
       "    </tr>\n",
       "    <tr>\n",
       "      <th>3</th>\n",
       "      <td>4</td>\n",
       "      <td>Fruits</td>\n",
       "      <td>15</td>\n",
       "      <td>3/16/2025</td>\n",
       "      <td>930</td>\n",
       "      <td>Restaurant</td>\n",
       "      <td>Kellytown</td>\n",
       "      <td>Vegan</td>\n",
       "      <td>Lunch</td>\n",
       "    </tr>\n",
       "    <tr>\n",
       "      <th>4</th>\n",
       "      <td>5</td>\n",
       "      <td>Soup</td>\n",
       "      <td>14</td>\n",
       "      <td>3/19/2025</td>\n",
       "      <td>279</td>\n",
       "      <td>Restaurant</td>\n",
       "      <td>Garciaport</td>\n",
       "      <td>Vegan</td>\n",
       "      <td>Dinner</td>\n",
       "    </tr>\n",
       "  </tbody>\n",
       "</table>\n",
       "</div>"
      ],
      "text/plain": [
       "   Food_ID Food_Name  Quantity Expiry_Date  Provider_ID     Provider_Type  \\\n",
       "0        1     Bread        43   3/17/2025          110     Grocery Store   \n",
       "1        2      Soup        22   3/24/2025          791     Grocery Store   \n",
       "2        3    Fruits        46   3/28/2025          478  Catering Service   \n",
       "3        4    Fruits        15   3/16/2025          930        Restaurant   \n",
       "4        5      Soup        14   3/19/2025          279        Restaurant   \n",
       "\n",
       "           Location       Food_Type  Meal_Type  \n",
       "0  South Kellyville  Non-Vegetarian  Breakfast  \n",
       "1        West James  Non-Vegetarian     Dinner  \n",
       "2       Lake Regina           Vegan  Breakfast  \n",
       "3         Kellytown           Vegan      Lunch  \n",
       "4        Garciaport           Vegan     Dinner  "
      ]
     },
     "metadata": {},
     "output_type": "display_data"
    },
    {
     "name": "stdout",
     "output_type": "stream",
     "text": [
      "\n",
      "📬 Claims Data:\n"
     ]
    },
    {
     "data": {
      "text/html": [
       "<div>\n",
       "<style scoped>\n",
       "    .dataframe tbody tr th:only-of-type {\n",
       "        vertical-align: middle;\n",
       "    }\n",
       "\n",
       "    .dataframe tbody tr th {\n",
       "        vertical-align: top;\n",
       "    }\n",
       "\n",
       "    .dataframe thead th {\n",
       "        text-align: right;\n",
       "    }\n",
       "</style>\n",
       "<table border=\"1\" class=\"dataframe\">\n",
       "  <thead>\n",
       "    <tr style=\"text-align: right;\">\n",
       "      <th></th>\n",
       "      <th>Claim_ID</th>\n",
       "      <th>Food_ID</th>\n",
       "      <th>Receiver_ID</th>\n",
       "      <th>Status</th>\n",
       "      <th>Timestamp</th>\n",
       "    </tr>\n",
       "  </thead>\n",
       "  <tbody>\n",
       "    <tr>\n",
       "      <th>0</th>\n",
       "      <td>1</td>\n",
       "      <td>164</td>\n",
       "      <td>908</td>\n",
       "      <td>Pending</td>\n",
       "      <td>3/5/2025 5:26</td>\n",
       "    </tr>\n",
       "    <tr>\n",
       "      <th>1</th>\n",
       "      <td>2</td>\n",
       "      <td>353</td>\n",
       "      <td>391</td>\n",
       "      <td>Cancelled</td>\n",
       "      <td>3/11/2025 10:24</td>\n",
       "    </tr>\n",
       "    <tr>\n",
       "      <th>2</th>\n",
       "      <td>3</td>\n",
       "      <td>626</td>\n",
       "      <td>492</td>\n",
       "      <td>Completed</td>\n",
       "      <td>3/21/2025 0:59</td>\n",
       "    </tr>\n",
       "    <tr>\n",
       "      <th>3</th>\n",
       "      <td>4</td>\n",
       "      <td>61</td>\n",
       "      <td>933</td>\n",
       "      <td>Cancelled</td>\n",
       "      <td>3/4/2025 9:08</td>\n",
       "    </tr>\n",
       "    <tr>\n",
       "      <th>4</th>\n",
       "      <td>5</td>\n",
       "      <td>345</td>\n",
       "      <td>229</td>\n",
       "      <td>Pending</td>\n",
       "      <td>3/14/2025 15:17</td>\n",
       "    </tr>\n",
       "  </tbody>\n",
       "</table>\n",
       "</div>"
      ],
      "text/plain": [
       "   Claim_ID  Food_ID  Receiver_ID     Status        Timestamp\n",
       "0         1      164          908    Pending    3/5/2025 5:26\n",
       "1         2      353          391  Cancelled  3/11/2025 10:24\n",
       "2         3      626          492  Completed   3/21/2025 0:59\n",
       "3         4       61          933  Cancelled    3/4/2025 9:08\n",
       "4         5      345          229    Pending  3/14/2025 15:17"
      ]
     },
     "metadata": {},
     "output_type": "display_data"
    }
   ],
   "source": [
    "print(\"📦 Providers Data:\")\n",
    "display(providers_df.head())\n",
    "\n",
    "print(\"\\n🎯 Receivers Data:\")\n",
    "display(receivers_df.head())\n",
    "\n",
    "print(\"\\n🥗 Food Listings Data:\")\n",
    "display(food_listings_df.head())\n",
    "\n",
    "print(\"\\n📬 Claims Data:\")\n",
    "display(claims_df.head())\n"
   ]
  },
  {
   "cell_type": "markdown",
   "id": "060917aa-cd25-4f73-babd-8663b62278f9",
   "metadata": {},
   "source": [
    "# 🗂️ Database Creation"
   ]
  },
  {
   "cell_type": "markdown",
   "id": "c869bf40-c90c-43c0-9b26-246e848535a6",
   "metadata": {},
   "source": [
    "### 🔁Convert date columns to proper datetime"
   ]
  },
  {
   "cell_type": "code",
   "execution_count": 1428,
   "id": "75d2b265-9e68-4518-915d-0fb3f3a76507",
   "metadata": {},
   "outputs": [],
   "source": [
    "food_listings_df['Expiry_Date'] = pd.to_datetime(food_listings_df['Expiry_Date'])\n",
    "claims_df['Timestamp'] = pd.to_datetime(claims_df['Timestamp'])"
   ]
  },
  {
   "cell_type": "markdown",
   "id": "5fcf6f11-bc39-48e1-9a41-0419438d69f5",
   "metadata": {},
   "source": [
    "### 🧼 Data Cleaning for providers_df"
   ]
  },
  {
   "cell_type": "code",
   "execution_count": 1023,
   "id": "c3777fba-87ba-47f5-8fc4-05869258939a",
   "metadata": {},
   "outputs": [
    {
     "name": "stdout",
     "output_type": "stream",
     "text": [
      "['Provider_ID', 'Name', 'Type', 'Address', 'City', 'Contact']\n"
     ]
    }
   ],
   "source": [
    "print(providers_df.columns.tolist())"
   ]
  },
  {
   "cell_type": "markdown",
   "id": "58f142e3-d187-4133-a9de-11189aa35b1f",
   "metadata": {},
   "source": [
    "####\t🔹Removing Existing ID Column Before Inserting to SQL"
   ]
  },
  {
   "cell_type": "code",
   "execution_count": 1435,
   "id": "95a0c6b0-344e-42cc-8357-d85555164251",
   "metadata": {},
   "outputs": [],
   "source": [
    "if 'provider_id' in providers_df.columns:\n",
    "    providers_df = providers_df.drop(columns=['provider_id'])"
   ]
  },
  {
   "cell_type": "markdown",
   "id": "68c8a09b-55c2-489c-8e20-df8da4edef00",
   "metadata": {},
   "source": [
    "#### 🔹Filter Only Required Columns for Insertion"
   ]
  },
  {
   "cell_type": "code",
   "execution_count": 1445,
   "id": "76262390-035a-4490-ada4-1bc724a35d1a",
   "metadata": {},
   "outputs": [],
   "source": [
    "expected_columns = ['Name', 'Type', 'Address', 'City', 'Contact']\n",
    "providers_df = providers_df[expected_columns]"
   ]
  },
  {
   "cell_type": "markdown",
   "id": "6f992e32-7ea8-4f81-9f75-a75c8a555c01",
   "metadata": {},
   "source": [
    "##### 🔹 Standardizing Column Names (Lowercase & Stripped)"
   ]
  },
  {
   "cell_type": "code",
   "execution_count": 1448,
   "id": "f97d6809-28af-4669-b802-123dbdcda110",
   "metadata": {},
   "outputs": [],
   "source": [
    "providers_df.columns = providers_df.columns.str.strip().str.lower()"
   ]
  },
  {
   "cell_type": "markdown",
   "id": "0df4a6f5-e7b9-4d68-bae7-acef06fe12cc",
   "metadata": {},
   "source": [
    "#### 🔹 Remove Duplicates"
   ]
  },
  {
   "cell_type": "code",
   "execution_count": 1451,
   "id": "b81c02ac-4c37-4e69-b3fe-bebaca1ea9bc",
   "metadata": {},
   "outputs": [],
   "source": [
    "existing_names = pd.read_sql(\"SELECT name FROM providers\", con=engine)\n",
    "providers_df = providers_df[~providers_df['name'].isin(existing_names['name'])]"
   ]
  },
  {
   "cell_type": "markdown",
   "id": "f0ef8a8f-1e57-4f0b-8d48-7485651c78c0",
   "metadata": {},
   "source": [
    "##### 🔹 Insert Data into PostgreSQL"
   ]
  },
  {
   "cell_type": "code",
   "execution_count": 1454,
   "id": "9966f93f-6d14-4377-b42d-d981660d7b48",
   "metadata": {},
   "outputs": [
    {
     "data": {
      "text/plain": [
       "0"
      ]
     },
     "execution_count": 1454,
     "metadata": {},
     "output_type": "execute_result"
    }
   ],
   "source": [
    "providers_df.to_sql('providers', con=engine, if_exists='append', index=False)"
   ]
  },
  {
   "cell_type": "markdown",
   "id": "ecb994ea-1785-4cbc-b366-ba60e1d85dbf",
   "metadata": {},
   "source": [
    "###  🧼 Clean and Insert receivers_df"
   ]
  },
  {
   "cell_type": "code",
   "execution_count": 1457,
   "id": "64d1d561-28b6-4b54-be18-2b2cfa038a5f",
   "metadata": {},
   "outputs": [
    {
     "name": "stdout",
     "output_type": "stream",
     "text": [
      "['Receiver_ID', 'Name', 'Type', 'City', 'Contact']\n"
     ]
    }
   ],
   "source": [
    "print(receivers_df.columns.tolist())\n"
   ]
  },
  {
   "cell_type": "markdown",
   "id": "a2d9844d-a85e-48f5-9447-9eb396386bb0",
   "metadata": {},
   "source": [
    "#### 🔹Resetting Auto-Increment Primary Key "
   ]
  },
  {
   "cell_type": "code",
   "execution_count": 1460,
   "id": "4f4cf69b-9244-47f8-b6e1-6783b5bf6247",
   "metadata": {},
   "outputs": [],
   "source": [
    "if 'receiver_id' in receivers_df.columns:\n",
    "    receivers_df = receivers_df.drop(columns=['receiver_id'])"
   ]
  },
  {
   "cell_type": "markdown",
   "id": "4aea1f9f-ecf6-484c-89c8-56fc5e12849d",
   "metadata": {},
   "source": [
    "#### 🔹 Normalize Column Names: Lowercase and Strip Spaces"
   ]
  },
  {
   "cell_type": "code",
   "execution_count": 1463,
   "id": "52f0c91f-1576-4766-aa78-85ae5875d043",
   "metadata": {},
   "outputs": [],
   "source": [
    "receivers_df.columns = receivers_df.columns.str.strip().str.lower()"
   ]
  },
  {
   "cell_type": "markdown",
   "id": "3bdf20c3-9d1a-4d6f-8e56-98593c350a84",
   "metadata": {},
   "source": [
    "#### 🔹 Filter Only Required Columns for Insertion"
   ]
  },
  {
   "cell_type": "code",
   "execution_count": 1466,
   "id": "67832003-81b1-4173-8a2d-19bf6adcf069",
   "metadata": {},
   "outputs": [],
   "source": [
    "expected_columns = ['name', 'type', 'city', 'contact']\n",
    "receivers_df = receivers_df[expected_columns]\n"
   ]
  },
  {
   "cell_type": "markdown",
   "id": "f92e2e91-fd36-4460-a34d-e1f5740eab2e",
   "metadata": {},
   "source": [
    "#### 🔹 Removing Duplicate "
   ]
  },
  {
   "cell_type": "code",
   "execution_count": 1469,
   "id": "cb179068-5307-4c13-ad20-29d07861ff5c",
   "metadata": {},
   "outputs": [],
   "source": [
    "existing_names = pd.read_sql(\"SELECT name FROM receivers\", con=engine)\n",
    "receivers_df = receivers_df[~receivers_df['name'].isin(existing_names['name'])]\n"
   ]
  },
  {
   "cell_type": "markdown",
   "id": "aa89f4c0-8395-4e02-9698-1cb273bccb01",
   "metadata": {},
   "source": [
    "#### 🔹Insert data"
   ]
  },
  {
   "cell_type": "code",
   "execution_count": 1472,
   "id": "7a79742f-9702-4b3b-8e77-b416cfd905ba",
   "metadata": {},
   "outputs": [
    {
     "data": {
      "text/plain": [
       "0"
      ]
     },
     "execution_count": 1472,
     "metadata": {},
     "output_type": "execute_result"
    }
   ],
   "source": [
    "receivers_df.to_sql('receivers', con=engine, if_exists='append', index=False)\n"
   ]
  },
  {
   "cell_type": "markdown",
   "id": "8b1c3c02-534e-4301-a929-cdb93b2e66b9",
   "metadata": {},
   "source": [
    "### 🧼Clean and Insert food_listings_df"
   ]
  },
  {
   "cell_type": "code",
   "execution_count": 1475,
   "id": "9796b42f-e525-41ac-abee-412352d73197",
   "metadata": {},
   "outputs": [
    {
     "name": "stdout",
     "output_type": "stream",
     "text": [
      "['Food_ID', 'Food_Name', 'Quantity', 'Expiry_Date', 'Provider_ID', 'Provider_Type', 'Location', 'Food_Type', 'Meal_Type']\n"
     ]
    }
   ],
   "source": [
    "print(food_listings_df.columns.tolist())\n"
   ]
  },
  {
   "cell_type": "markdown",
   "id": "4bdded6a-1a75-44ed-b7d3-66c4044f1987",
   "metadata": {},
   "source": [
    "#### 🔹Removing Existing ID Column Before Inserting to SQL"
   ]
  },
  {
   "cell_type": "code",
   "execution_count": 1478,
   "id": "a8d987f2-121c-4166-aba6-71a2d19730fd",
   "metadata": {},
   "outputs": [],
   "source": [
    "if 'food_id' in food_listings_df.columns:\n",
    "    food_listings_df = food_listings_df.drop(columns=['food_id'])\n"
   ]
  },
  {
   "cell_type": "markdown",
   "id": "9d6582b8-e43a-4c60-9ad2-bee0c28f0e49",
   "metadata": {},
   "source": [
    "#### 🔹Clean Column Names for Consistency"
   ]
  },
  {
   "cell_type": "code",
   "execution_count": 1481,
   "id": "d3309b95-b9e2-45a0-b58e-79c41a1358f4",
   "metadata": {},
   "outputs": [],
   "source": [
    "food_listings_df.columns = food_listings_df.columns.str.strip().str.lower()\n"
   ]
  },
  {
   "cell_type": "markdown",
   "id": "3a90068c-7a4e-4b43-b1c8-4b6b06d79f23",
   "metadata": {},
   "source": [
    "#### 🔹Filter Only Required Columns for Insertion"
   ]
  },
  {
   "cell_type": "code",
   "execution_count": 1484,
   "id": "1a07a817-fd7e-4cab-811c-0e19bf1d8129",
   "metadata": {},
   "outputs": [],
   "source": [
    "expected_columns = ['food_name', 'quantity', 'expiry_date', 'provider_id', \n",
    "                    'provider_type', 'location', 'food_type', 'meal_type']\n",
    "food_listings_df = food_listings_df[expected_columns]\n"
   ]
  },
  {
   "cell_type": "markdown",
   "id": "ba44894b-a7ff-410b-924a-18b7024d5808",
   "metadata": {},
   "source": [
    "#### 🔹Insert Data"
   ]
  },
  {
   "cell_type": "code",
   "execution_count": 1487,
   "id": "feccacfd-f392-4dd8-8d0e-2163f20dcb0b",
   "metadata": {},
   "outputs": [
    {
     "data": {
      "text/plain": [
       "1000"
      ]
     },
     "execution_count": 1487,
     "metadata": {},
     "output_type": "execute_result"
    }
   ],
   "source": [
    "food_listings_df.to_sql('food_listings', con=engine, if_exists='append', index=False)\n"
   ]
  },
  {
   "cell_type": "markdown",
   "id": "308d04a4-84af-4d18-811b-583dc9e350a5",
   "metadata": {},
   "source": [
    "### 🧼 Clean and Insert claims_df"
   ]
  },
  {
   "cell_type": "code",
   "execution_count": 1505,
   "id": "77f21f58-52bf-450c-89e4-01211211c9fc",
   "metadata": {},
   "outputs": [
    {
     "name": "stdout",
     "output_type": "stream",
     "text": [
      "['Claim_ID', 'Food_ID', 'Receiver_ID', 'Status', 'Timestamp']\n"
     ]
    }
   ],
   "source": [
    "print(claims_df.columns.tolist())\n"
   ]
  },
  {
   "cell_type": "markdown",
   "id": "a39e9120-ff5a-4397-9a12-52ebe0170020",
   "metadata": {},
   "source": [
    "#### 🔹Removing Existing ID Column Before Inserting to SQL"
   ]
  },
  {
   "cell_type": "code",
   "execution_count": 1508,
   "id": "df61042c-8894-4898-9188-8bf387ebc8ef",
   "metadata": {},
   "outputs": [],
   "source": [
    "if 'claim_id' in claims_df.columns:\n",
    "    claims_df = claims_df.drop(columns=['claim_id'])\n"
   ]
  },
  {
   "cell_type": "markdown",
   "id": "a7a587cb-17f6-4bf1-ab38-174fe0f722d3",
   "metadata": {},
   "source": [
    "#### 🔹Clean Column Names for Consistency"
   ]
  },
  {
   "cell_type": "code",
   "execution_count": 1511,
   "id": "3d2f9844-b846-4079-817a-0743f68c5dde",
   "metadata": {},
   "outputs": [],
   "source": [
    "claims_df.columns = claims_df.columns.str.strip().str.lower()"
   ]
  },
  {
   "cell_type": "markdown",
   "id": "2943b55f-b2da-4314-bac8-7ca779e4bb0b",
   "metadata": {},
   "source": [
    "#### 🔹Filter Only Required Columns for Insertion"
   ]
  },
  {
   "cell_type": "code",
   "execution_count": 1514,
   "id": "699ca760-3770-4fde-934e-d717ca841af6",
   "metadata": {},
   "outputs": [],
   "source": [
    "expected_columns = ['food_id', 'receiver_id', 'status', 'timestamp']\n",
    "claims_df = claims_df[expected_columns]\n"
   ]
  },
  {
   "cell_type": "markdown",
   "id": "ab6aae77-e854-477a-994c-68ee2aaf64dd",
   "metadata": {},
   "source": [
    "#### 🔹Insert Data"
   ]
  },
  {
   "cell_type": "code",
   "execution_count": 1517,
   "id": "8520f701-6d51-495d-9c97-a94b347ddef2",
   "metadata": {},
   "outputs": [
    {
     "data": {
      "text/plain": [
       "1000"
      ]
     },
     "execution_count": 1517,
     "metadata": {},
     "output_type": "execute_result"
    }
   ],
   "source": [
    "claims_df.to_sql('claims', con=engine, if_exists='append', index=False)\n"
   ]
  },
  {
   "cell_type": "markdown",
   "id": "303912d1-29db-45a2-91e4-2e0cf81e5f17",
   "metadata": {},
   "source": [
    "### ✅ Verify Data Inserted :"
   ]
  },
  {
   "cell_type": "code",
   "execution_count": 1520,
   "id": "7279430e-2c44-4948-9fde-49d642ec9d7c",
   "metadata": {},
   "outputs": [
    {
     "name": "stdout",
     "output_type": "stream",
     "text": [
      "Food Listings rows: 6000\n"
     ]
    }
   ],
   "source": [
    "with engine.connect() as conn:\n",
    "    result = conn.execute(text(\"SELECT COUNT(*) FROM food_listings\"))\n",
    "    print(\"Food Listings rows:\", result.scalar())"
   ]
  },
  {
   "cell_type": "markdown",
   "id": "7c9da0ce-266f-435d-a8c8-5a5832cbcc15",
   "metadata": {},
   "source": [
    "# 📊Data Analysis"
   ]
  },
  {
   "cell_type": "markdown",
   "id": "80b9c55e-f41f-4ab2-bbea-dd271bf57bd1",
   "metadata": {},
   "source": [
    "### Questions to be Answered (SQL Queries & Analysis)"
   ]
  },
  {
   "cell_type": "markdown",
   "id": "2509b4f7-aaca-489a-9b2f-b41b9fec51ea",
   "metadata": {},
   "source": [
    "#### Question1. How many food providers and receivers are there in each city?"
   ]
  },
  {
   "cell_type": "code",
   "execution_count": 1525,
   "id": "7e825de0-cc82-4aa9-85a2-cdb660d9f54b",
   "metadata": {},
   "outputs": [
    {
     "data": {
      "text/html": [
       "<div>\n",
       "<style scoped>\n",
       "    .dataframe tbody tr th:only-of-type {\n",
       "        vertical-align: middle;\n",
       "    }\n",
       "\n",
       "    .dataframe tbody tr th {\n",
       "        vertical-align: top;\n",
       "    }\n",
       "\n",
       "    .dataframe thead th {\n",
       "        text-align: right;\n",
       "    }\n",
       "</style>\n",
       "<table border=\"1\" class=\"dataframe\">\n",
       "  <thead>\n",
       "    <tr style=\"text-align: right;\">\n",
       "      <th></th>\n",
       "      <th>city</th>\n",
       "      <th>total_providers</th>\n",
       "      <th>total_receivers</th>\n",
       "    </tr>\n",
       "  </thead>\n",
       "  <tbody>\n",
       "    <tr>\n",
       "      <th>0</th>\n",
       "      <td>Aaronshire</td>\n",
       "      <td>0</td>\n",
       "      <td>1</td>\n",
       "    </tr>\n",
       "    <tr>\n",
       "      <th>1</th>\n",
       "      <td>Adambury</td>\n",
       "      <td>1</td>\n",
       "      <td>0</td>\n",
       "    </tr>\n",
       "    <tr>\n",
       "      <th>2</th>\n",
       "      <td>Adamland</td>\n",
       "      <td>0</td>\n",
       "      <td>1</td>\n",
       "    </tr>\n",
       "    <tr>\n",
       "      <th>3</th>\n",
       "      <td>Adamsview</td>\n",
       "      <td>1</td>\n",
       "      <td>0</td>\n",
       "    </tr>\n",
       "    <tr>\n",
       "      <th>4</th>\n",
       "      <td>Adamsville</td>\n",
       "      <td>1</td>\n",
       "      <td>0</td>\n",
       "    </tr>\n",
       "    <tr>\n",
       "      <th>...</th>\n",
       "      <td>...</td>\n",
       "      <td>...</td>\n",
       "      <td>...</td>\n",
       "    </tr>\n",
       "    <tr>\n",
       "      <th>1873</th>\n",
       "      <td>Yatesside</td>\n",
       "      <td>1</td>\n",
       "      <td>0</td>\n",
       "    </tr>\n",
       "    <tr>\n",
       "      <th>1874</th>\n",
       "      <td>Youngchester</td>\n",
       "      <td>1</td>\n",
       "      <td>0</td>\n",
       "    </tr>\n",
       "    <tr>\n",
       "      <th>1875</th>\n",
       "      <td>Zacharyview</td>\n",
       "      <td>0</td>\n",
       "      <td>1</td>\n",
       "    </tr>\n",
       "    <tr>\n",
       "      <th>1876</th>\n",
       "      <td>Zimmermanton</td>\n",
       "      <td>1</td>\n",
       "      <td>0</td>\n",
       "    </tr>\n",
       "    <tr>\n",
       "      <th>1877</th>\n",
       "      <td>Zimmermanville</td>\n",
       "      <td>1</td>\n",
       "      <td>0</td>\n",
       "    </tr>\n",
       "  </tbody>\n",
       "</table>\n",
       "<p>1878 rows × 3 columns</p>\n",
       "</div>"
      ],
      "text/plain": [
       "                city  total_providers  total_receivers\n",
       "0         Aaronshire                0                1\n",
       "1           Adambury                1                0\n",
       "2           Adamland                0                1\n",
       "3          Adamsview                1                0\n",
       "4         Adamsville                1                0\n",
       "...              ...              ...              ...\n",
       "1873       Yatesside                1                0\n",
       "1874    Youngchester                1                0\n",
       "1875     Zacharyview                0                1\n",
       "1876    Zimmermanton                1                0\n",
       "1877  Zimmermanville                1                0\n",
       "\n",
       "[1878 rows x 3 columns]"
      ]
     },
     "execution_count": 1525,
     "metadata": {},
     "output_type": "execute_result"
    }
   ],
   "source": [
    "query1 = \"\"\"\n",
    "SELECT city, \n",
    "       COUNT(DISTINCT provider_id) AS total_providers,\n",
    "       COUNT(DISTINCT receiver_id) AS total_receivers\n",
    "FROM providers\n",
    "FULL OUTER JOIN receivers USING (city)\n",
    "GROUP BY city;\n",
    "\"\"\"\n",
    "pd.read_sql(query1, con=engine)\n"
   ]
  },
  {
   "cell_type": "markdown",
   "id": "0d8bcb85-716c-43cd-9b05-2b55ae1e4551",
   "metadata": {},
   "source": [
    "#### 🍽️ Question 2. Which type of food provider contributes the most food?"
   ]
  },
  {
   "cell_type": "code",
   "execution_count": 1528,
   "id": "9bd7c4f7-fa42-4af7-b3af-3b1345d10c79",
   "metadata": {},
   "outputs": [
    {
     "data": {
      "text/html": [
       "<div>\n",
       "<style scoped>\n",
       "    .dataframe tbody tr th:only-of-type {\n",
       "        vertical-align: middle;\n",
       "    }\n",
       "\n",
       "    .dataframe tbody tr th {\n",
       "        vertical-align: top;\n",
       "    }\n",
       "\n",
       "    .dataframe thead th {\n",
       "        text-align: right;\n",
       "    }\n",
       "</style>\n",
       "<table border=\"1\" class=\"dataframe\">\n",
       "  <thead>\n",
       "    <tr style=\"text-align: right;\">\n",
       "      <th></th>\n",
       "      <th>provider_type</th>\n",
       "      <th>total_listings</th>\n",
       "    </tr>\n",
       "  </thead>\n",
       "  <tbody>\n",
       "    <tr>\n",
       "      <th>0</th>\n",
       "      <td>Supermarket</td>\n",
       "      <td>1602</td>\n",
       "    </tr>\n",
       "    <tr>\n",
       "      <th>1</th>\n",
       "      <td>Restaurant</td>\n",
       "      <td>1548</td>\n",
       "    </tr>\n",
       "    <tr>\n",
       "      <th>2</th>\n",
       "      <td>Grocery Store</td>\n",
       "      <td>1458</td>\n",
       "    </tr>\n",
       "    <tr>\n",
       "      <th>3</th>\n",
       "      <td>Catering Service</td>\n",
       "      <td>1392</td>\n",
       "    </tr>\n",
       "  </tbody>\n",
       "</table>\n",
       "</div>"
      ],
      "text/plain": [
       "      provider_type  total_listings\n",
       "0       Supermarket            1602\n",
       "1        Restaurant            1548\n",
       "2     Grocery Store            1458\n",
       "3  Catering Service            1392"
      ]
     },
     "execution_count": 1528,
     "metadata": {},
     "output_type": "execute_result"
    }
   ],
   "source": [
    "query2 = \"\"\"\n",
    "SELECT provider_type, COUNT(*) AS total_listings\n",
    "FROM food_listings\n",
    "GROUP BY provider_type\n",
    "ORDER BY total_listings DESC;\n",
    "\"\"\"\n",
    "pd.read_sql(query2, con=engine)\n"
   ]
  },
  {
   "cell_type": "markdown",
   "id": "1ad1c41b-1e7c-41de-b5b4-f9065781d552",
   "metadata": {},
   "source": [
    "#### 📞Question 3. Contact info of food providers in a specific city (\"Delhi\")"
   ]
  },
  {
   "cell_type": "code",
   "execution_count": 1531,
   "id": "97473fbf-109c-421a-8c71-6700bc7b4e51",
   "metadata": {},
   "outputs": [
    {
     "data": {
      "text/html": [
       "<div>\n",
       "<style scoped>\n",
       "    .dataframe tbody tr th:only-of-type {\n",
       "        vertical-align: middle;\n",
       "    }\n",
       "\n",
       "    .dataframe tbody tr th {\n",
       "        vertical-align: top;\n",
       "    }\n",
       "\n",
       "    .dataframe thead th {\n",
       "        text-align: right;\n",
       "    }\n",
       "</style>\n",
       "<table border=\"1\" class=\"dataframe\">\n",
       "  <thead>\n",
       "    <tr style=\"text-align: right;\">\n",
       "      <th></th>\n",
       "      <th>city</th>\n",
       "    </tr>\n",
       "  </thead>\n",
       "  <tbody>\n",
       "    <tr>\n",
       "      <th>0</th>\n",
       "      <td>West Omar</td>\n",
       "    </tr>\n",
       "    <tr>\n",
       "      <th>1</th>\n",
       "      <td>Port Daniellechester</td>\n",
       "    </tr>\n",
       "    <tr>\n",
       "      <th>2</th>\n",
       "      <td>Tyronebury</td>\n",
       "    </tr>\n",
       "    <tr>\n",
       "      <th>3</th>\n",
       "      <td>New Bobbytown</td>\n",
       "    </tr>\n",
       "    <tr>\n",
       "      <th>4</th>\n",
       "      <td>New William</td>\n",
       "    </tr>\n",
       "    <tr>\n",
       "      <th>...</th>\n",
       "      <td>...</td>\n",
       "    </tr>\n",
       "    <tr>\n",
       "      <th>958</th>\n",
       "      <td>Bentleyburgh</td>\n",
       "    </tr>\n",
       "    <tr>\n",
       "      <th>959</th>\n",
       "      <td>Anthonyfort</td>\n",
       "    </tr>\n",
       "    <tr>\n",
       "      <th>960</th>\n",
       "      <td>Port Daniel</td>\n",
       "    </tr>\n",
       "    <tr>\n",
       "      <th>961</th>\n",
       "      <td>Lake Kyle</td>\n",
       "    </tr>\n",
       "    <tr>\n",
       "      <th>962</th>\n",
       "      <td>Jenniferview</td>\n",
       "    </tr>\n",
       "  </tbody>\n",
       "</table>\n",
       "<p>963 rows × 1 columns</p>\n",
       "</div>"
      ],
      "text/plain": [
       "                     city\n",
       "0               West Omar\n",
       "1    Port Daniellechester\n",
       "2              Tyronebury\n",
       "3           New Bobbytown\n",
       "4             New William\n",
       "..                    ...\n",
       "958          Bentleyburgh\n",
       "959           Anthonyfort\n",
       "960           Port Daniel\n",
       "961             Lake Kyle\n",
       "962          Jenniferview\n",
       "\n",
       "[963 rows x 1 columns]"
      ]
     },
     "execution_count": 1531,
     "metadata": {},
     "output_type": "execute_result"
    }
   ],
   "source": [
    "pd.read_sql(\"SELECT DISTINCT city FROM providers;\", con=engine)\n"
   ]
  },
  {
   "cell_type": "code",
   "execution_count": 1533,
   "id": "d0eba990-0caa-4d7f-9d21-47b6a9d3fc99",
   "metadata": {},
   "outputs": [
    {
     "data": {
      "text/html": [
       "<div>\n",
       "<style scoped>\n",
       "    .dataframe tbody tr th:only-of-type {\n",
       "        vertical-align: middle;\n",
       "    }\n",
       "\n",
       "    .dataframe tbody tr th {\n",
       "        vertical-align: top;\n",
       "    }\n",
       "\n",
       "    .dataframe thead th {\n",
       "        text-align: right;\n",
       "    }\n",
       "</style>\n",
       "<table border=\"1\" class=\"dataframe\">\n",
       "  <thead>\n",
       "    <tr style=\"text-align: right;\">\n",
       "      <th></th>\n",
       "      <th>provider_id</th>\n",
       "      <th>name</th>\n",
       "      <th>type</th>\n",
       "      <th>address</th>\n",
       "      <th>city</th>\n",
       "      <th>contact</th>\n",
       "    </tr>\n",
       "  </thead>\n",
       "  <tbody>\n",
       "    <tr>\n",
       "      <th>0</th>\n",
       "      <td>377</td>\n",
       "      <td>Cooper-Gill</td>\n",
       "      <td>Catering Service</td>\n",
       "      <td>94711 Tracy Court Apt. 437\\nTammyborough, ME 8...</td>\n",
       "      <td>West Omar</td>\n",
       "      <td>+1-161-221-8545x570</td>\n",
       "    </tr>\n",
       "  </tbody>\n",
       "</table>\n",
       "</div>"
      ],
      "text/plain": [
       "   provider_id         name              type  \\\n",
       "0          377  Cooper-Gill  Catering Service   \n",
       "\n",
       "                                             address       city  \\\n",
       "0  94711 Tracy Court Apt. 437\\nTammyborough, ME 8...  West Omar   \n",
       "\n",
       "               contact  \n",
       "0  +1-161-221-8545x570  "
      ]
     },
     "metadata": {},
     "output_type": "display_data"
    }
   ],
   "source": [
    "# Choose a valid city from your database\n",
    "city_to_filter = 'West Omar'  # You can change this to any valid city from your list\n",
    "\n",
    "# SQL query\n",
    "query3 = f\"\"\"\n",
    "SELECT provider_id, name, type, address, city, contact\n",
    "FROM providers\n",
    "WHERE city = '{city_to_filter}';\n",
    "\"\"\"\n",
    "\n",
    "# Run the query and display result\n",
    "providers_in_city = pd.read_sql(query3, con=engine)\n",
    "\n",
    "# Check and print the result\n",
    "if not providers_in_city.empty:\n",
    "    display(providers_in_city)\n",
    "else:\n",
    "    print(f\"No providers found in city: {city_to_filter}\")\n"
   ]
  },
  {
   "cell_type": "markdown",
   "id": "af52e618-40d6-44da-b2b6-f5e38c6b1e79",
   "metadata": {},
   "source": [
    "#### ✅ Question 4: Which receivers have claimed the most food?"
   ]
  },
  {
   "cell_type": "code",
   "execution_count": 1536,
   "id": "53f55241-2558-4917-ae81-63b757834982",
   "metadata": {},
   "outputs": [
    {
     "data": {
      "text/html": [
       "<div>\n",
       "<style scoped>\n",
       "    .dataframe tbody tr th:only-of-type {\n",
       "        vertical-align: middle;\n",
       "    }\n",
       "\n",
       "    .dataframe tbody tr th {\n",
       "        vertical-align: top;\n",
       "    }\n",
       "\n",
       "    .dataframe thead th {\n",
       "        text-align: right;\n",
       "    }\n",
       "</style>\n",
       "<table border=\"1\" class=\"dataframe\">\n",
       "  <thead>\n",
       "    <tr style=\"text-align: right;\">\n",
       "      <th></th>\n",
       "      <th>receiver_id</th>\n",
       "      <th>receiver_name</th>\n",
       "      <th>total_claims</th>\n",
       "    </tr>\n",
       "  </thead>\n",
       "  <tbody>\n",
       "    <tr>\n",
       "      <th>0</th>\n",
       "      <td>276</td>\n",
       "      <td>Scott Hunter</td>\n",
       "      <td>30</td>\n",
       "    </tr>\n",
       "    <tr>\n",
       "      <th>1</th>\n",
       "      <td>742</td>\n",
       "      <td>Matthew Webb</td>\n",
       "      <td>30</td>\n",
       "    </tr>\n",
       "    <tr>\n",
       "      <th>2</th>\n",
       "      <td>800</td>\n",
       "      <td>Anthony Garcia</td>\n",
       "      <td>30</td>\n",
       "    </tr>\n",
       "    <tr>\n",
       "      <th>3</th>\n",
       "      <td>371</td>\n",
       "      <td>William Frederick</td>\n",
       "      <td>30</td>\n",
       "    </tr>\n",
       "    <tr>\n",
       "      <th>4</th>\n",
       "      <td>493</td>\n",
       "      <td>Chelsea Powell</td>\n",
       "      <td>24</td>\n",
       "    </tr>\n",
       "    <tr>\n",
       "      <th>5</th>\n",
       "      <td>90</td>\n",
       "      <td>Alvin West</td>\n",
       "      <td>24</td>\n",
       "    </tr>\n",
       "    <tr>\n",
       "      <th>6</th>\n",
       "      <td>301</td>\n",
       "      <td>Kristina Simpson</td>\n",
       "      <td>24</td>\n",
       "    </tr>\n",
       "    <tr>\n",
       "      <th>7</th>\n",
       "      <td>410</td>\n",
       "      <td>Betty Reid</td>\n",
       "      <td>24</td>\n",
       "    </tr>\n",
       "    <tr>\n",
       "      <th>8</th>\n",
       "      <td>505</td>\n",
       "      <td>Alexandra Owens</td>\n",
       "      <td>24</td>\n",
       "    </tr>\n",
       "    <tr>\n",
       "      <th>9</th>\n",
       "      <td>324</td>\n",
       "      <td>Kristine Martin</td>\n",
       "      <td>24</td>\n",
       "    </tr>\n",
       "  </tbody>\n",
       "</table>\n",
       "</div>"
      ],
      "text/plain": [
       "   receiver_id      receiver_name  total_claims\n",
       "0          276       Scott Hunter            30\n",
       "1          742       Matthew Webb            30\n",
       "2          800     Anthony Garcia            30\n",
       "3          371  William Frederick            30\n",
       "4          493     Chelsea Powell            24\n",
       "5           90         Alvin West            24\n",
       "6          301   Kristina Simpson            24\n",
       "7          410         Betty Reid            24\n",
       "8          505    Alexandra Owens            24\n",
       "9          324    Kristine Martin            24"
      ]
     },
     "metadata": {},
     "output_type": "display_data"
    }
   ],
   "source": [
    "# SQL query to find receivers with the most claims\n",
    "query4 = \"\"\"\n",
    "SELECT r.receiver_id, r.name AS receiver_name, COUNT(c.claim_id) AS total_claims\n",
    "FROM claims c\n",
    "JOIN receivers r ON c.receiver_id = r.receiver_id\n",
    "GROUP BY r.receiver_id, r.name\n",
    "ORDER BY total_claims DESC;\n",
    "\"\"\"\n",
    "\n",
    "# Execute the query\n",
    "top_receivers = pd.read_sql(query4, con=engine)\n",
    "\n",
    "# Display the result\n",
    "display(top_receivers.head(10))  # Show top 10 receivers\n"
   ]
  },
  {
   "cell_type": "markdown",
   "id": "8f3a09ab-b238-47ae-86be-fa657fc71032",
   "metadata": {},
   "source": [
    "#### ✅ Question 5: What is the total quantity of food available from all providers?"
   ]
  },
  {
   "cell_type": "code",
   "execution_count": 1124,
   "id": "d94e4d25-4597-443e-b416-101626e9272a",
   "metadata": {},
   "outputs": [
    {
     "data": {
      "text/html": [
       "<div>\n",
       "<style scoped>\n",
       "    .dataframe tbody tr th:only-of-type {\n",
       "        vertical-align: middle;\n",
       "    }\n",
       "\n",
       "    .dataframe tbody tr th {\n",
       "        vertical-align: top;\n",
       "    }\n",
       "\n",
       "    .dataframe thead th {\n",
       "        text-align: right;\n",
       "    }\n",
       "</style>\n",
       "<table border=\"1\" class=\"dataframe\">\n",
       "  <thead>\n",
       "    <tr style=\"text-align: right;\">\n",
       "      <th></th>\n",
       "      <th>total_quantity_available</th>\n",
       "    </tr>\n",
       "  </thead>\n",
       "  <tbody>\n",
       "    <tr>\n",
       "      <th>0</th>\n",
       "      <td>128970</td>\n",
       "    </tr>\n",
       "  </tbody>\n",
       "</table>\n",
       "</div>"
      ],
      "text/plain": [
       "   total_quantity_available\n",
       "0                    128970"
      ]
     },
     "metadata": {},
     "output_type": "display_data"
    }
   ],
   "source": [
    "# SQL query to calculate total quantity of food available\n",
    "query5 = \"\"\"\n",
    "SELECT SUM(quantity) AS total_quantity_available\n",
    "FROM food_listings;\n",
    "\"\"\"\n",
    "\n",
    "# Execute the query\n",
    "total_food = pd.read_sql(query5, con=engine)\n",
    "\n",
    "# Display result\n",
    "display(total_food)\n"
   ]
  },
  {
   "cell_type": "markdown",
   "id": "097ea835-ff25-4bef-b93c-cadace2dbe71",
   "metadata": {},
   "source": [
    "#### ✅ Question 6: Which city has the highest number of food listings?"
   ]
  },
  {
   "cell_type": "code",
   "execution_count": 1127,
   "id": "bb6123fe-7e34-46e3-9fa1-44f45c5bdf06",
   "metadata": {},
   "outputs": [
    {
     "data": {
      "text/html": [
       "<div>\n",
       "<style scoped>\n",
       "    .dataframe tbody tr th:only-of-type {\n",
       "        vertical-align: middle;\n",
       "    }\n",
       "\n",
       "    .dataframe tbody tr th {\n",
       "        vertical-align: top;\n",
       "    }\n",
       "\n",
       "    .dataframe thead th {\n",
       "        text-align: right;\n",
       "    }\n",
       "</style>\n",
       "<table border=\"1\" class=\"dataframe\">\n",
       "  <thead>\n",
       "    <tr style=\"text-align: right;\">\n",
       "      <th></th>\n",
       "      <th>city</th>\n",
       "      <th>num_listings</th>\n",
       "    </tr>\n",
       "  </thead>\n",
       "  <tbody>\n",
       "    <tr>\n",
       "      <th>0</th>\n",
       "      <td>New Carol</td>\n",
       "      <td>30</td>\n",
       "    </tr>\n",
       "  </tbody>\n",
       "</table>\n",
       "</div>"
      ],
      "text/plain": [
       "        city  num_listings\n",
       "0  New Carol            30"
      ]
     },
     "metadata": {},
     "output_type": "display_data"
    }
   ],
   "source": [
    "# SQL query to find the city with the highest number of food listings\n",
    "query6 = \"\"\"\n",
    "SELECT location AS city, COUNT(*) AS num_listings\n",
    "FROM food_listings\n",
    "GROUP BY location\n",
    "ORDER BY num_listings DESC\n",
    "LIMIT 1;\n",
    "\"\"\"\n",
    "\n",
    "# Execute the query\n",
    "top_city_listings = pd.read_sql(query6, con=engine)\n",
    "\n",
    "# Display result\n",
    "display(top_city_listings)\n"
   ]
  },
  {
   "cell_type": "markdown",
   "id": "705d577c-56b6-4317-8a0e-c9f8f091f51b",
   "metadata": {},
   "source": [
    "#### ✅ Question 7: What are the most commonly available food types?"
   ]
  },
  {
   "cell_type": "code",
   "execution_count": 1130,
   "id": "aa354551-4170-45c9-a34f-348737989200",
   "metadata": {},
   "outputs": [
    {
     "data": {
      "text/html": [
       "<div>\n",
       "<style scoped>\n",
       "    .dataframe tbody tr th:only-of-type {\n",
       "        vertical-align: middle;\n",
       "    }\n",
       "\n",
       "    .dataframe tbody tr th {\n",
       "        vertical-align: top;\n",
       "    }\n",
       "\n",
       "    .dataframe thead th {\n",
       "        text-align: right;\n",
       "    }\n",
       "</style>\n",
       "<table border=\"1\" class=\"dataframe\">\n",
       "  <thead>\n",
       "    <tr style=\"text-align: right;\">\n",
       "      <th></th>\n",
       "      <th>food_type</th>\n",
       "      <th>count</th>\n",
       "    </tr>\n",
       "  </thead>\n",
       "  <tbody>\n",
       "    <tr>\n",
       "      <th>0</th>\n",
       "      <td>Vegetarian</td>\n",
       "      <td>1680</td>\n",
       "    </tr>\n",
       "    <tr>\n",
       "      <th>1</th>\n",
       "      <td>Vegan</td>\n",
       "      <td>1670</td>\n",
       "    </tr>\n",
       "    <tr>\n",
       "      <th>2</th>\n",
       "      <td>Non-Vegetarian</td>\n",
       "      <td>1650</td>\n",
       "    </tr>\n",
       "  </tbody>\n",
       "</table>\n",
       "</div>"
      ],
      "text/plain": [
       "        food_type  count\n",
       "0      Vegetarian   1680\n",
       "1           Vegan   1670\n",
       "2  Non-Vegetarian   1650"
      ]
     },
     "metadata": {},
     "output_type": "display_data"
    }
   ],
   "source": [
    "# SQL query to find the most commonly available food types\n",
    "query7 = \"\"\"\n",
    "SELECT food_type, COUNT(*) AS count\n",
    "FROM food_listings\n",
    "GROUP BY food_type\n",
    "ORDER BY count DESC;\n",
    "\"\"\"\n",
    "\n",
    "# Execute the query\n",
    "common_food_types = pd.read_sql(query7, con=engine)\n",
    "\n",
    "# Display result\n",
    "display(common_food_types)\n"
   ]
  },
  {
   "cell_type": "markdown",
   "id": "ca1f5641-b08b-47e0-9692-8c6650b7a6b0",
   "metadata": {},
   "source": [
    "#### ✅ Question 8: How many food claims have been made for each food item?"
   ]
  },
  {
   "cell_type": "code",
   "execution_count": 1133,
   "id": "8deab953-a664-4a72-953d-f4843b41b00b",
   "metadata": {},
   "outputs": [
    {
     "data": {
      "text/html": [
       "<div>\n",
       "<style scoped>\n",
       "    .dataframe tbody tr th:only-of-type {\n",
       "        vertical-align: middle;\n",
       "    }\n",
       "\n",
       "    .dataframe tbody tr th {\n",
       "        vertical-align: top;\n",
       "    }\n",
       "\n",
       "    .dataframe thead th {\n",
       "        text-align: right;\n",
       "    }\n",
       "</style>\n",
       "<table border=\"1\" class=\"dataframe\">\n",
       "  <thead>\n",
       "    <tr style=\"text-align: right;\">\n",
       "      <th></th>\n",
       "      <th>food_name</th>\n",
       "      <th>total_claims</th>\n",
       "    </tr>\n",
       "  </thead>\n",
       "  <tbody>\n",
       "    <tr>\n",
       "      <th>0</th>\n",
       "      <td>Rice</td>\n",
       "      <td>610</td>\n",
       "    </tr>\n",
       "    <tr>\n",
       "      <th>1</th>\n",
       "      <td>Soup</td>\n",
       "      <td>570</td>\n",
       "    </tr>\n",
       "    <tr>\n",
       "      <th>2</th>\n",
       "      <td>Dairy</td>\n",
       "      <td>550</td>\n",
       "    </tr>\n",
       "    <tr>\n",
       "      <th>3</th>\n",
       "      <td>Fish</td>\n",
       "      <td>540</td>\n",
       "    </tr>\n",
       "    <tr>\n",
       "      <th>4</th>\n",
       "      <td>Salad</td>\n",
       "      <td>530</td>\n",
       "    </tr>\n",
       "    <tr>\n",
       "      <th>5</th>\n",
       "      <td>Chicken</td>\n",
       "      <td>510</td>\n",
       "    </tr>\n",
       "    <tr>\n",
       "      <th>6</th>\n",
       "      <td>Bread</td>\n",
       "      <td>470</td>\n",
       "    </tr>\n",
       "    <tr>\n",
       "      <th>7</th>\n",
       "      <td>Pasta</td>\n",
       "      <td>435</td>\n",
       "    </tr>\n",
       "    <tr>\n",
       "      <th>8</th>\n",
       "      <td>Vegetables</td>\n",
       "      <td>430</td>\n",
       "    </tr>\n",
       "    <tr>\n",
       "      <th>9</th>\n",
       "      <td>Fruits</td>\n",
       "      <td>355</td>\n",
       "    </tr>\n",
       "  </tbody>\n",
       "</table>\n",
       "</div>"
      ],
      "text/plain": [
       "    food_name  total_claims\n",
       "0        Rice           610\n",
       "1        Soup           570\n",
       "2       Dairy           550\n",
       "3        Fish           540\n",
       "4       Salad           530\n",
       "5     Chicken           510\n",
       "6       Bread           470\n",
       "7       Pasta           435\n",
       "8  Vegetables           430\n",
       "9      Fruits           355"
      ]
     },
     "metadata": {},
     "output_type": "display_data"
    }
   ],
   "source": [
    "# SQL query to count claims per food item\n",
    "query8 = \"\"\"\n",
    "SELECT f.food_name, COUNT(c.claim_id) AS total_claims\n",
    "FROM claims c\n",
    "JOIN food_listings f ON c.food_id = f.food_id\n",
    "GROUP BY f.food_name\n",
    "ORDER BY total_claims DESC;\n",
    "\"\"\"\n",
    "\n",
    "# Execute query\n",
    "claims_per_food = pd.read_sql(query8, con=engine)\n",
    "\n",
    "# Display result\n",
    "display(claims_per_food)\n"
   ]
  },
  {
   "cell_type": "markdown",
   "id": "3b5ca3df-b9cc-4077-9d1b-52a58c0d0a9d",
   "metadata": {},
   "source": [
    "#### ✅ Question 9: Which provider has had the highest number of successful food claims?"
   ]
  },
  {
   "cell_type": "code",
   "execution_count": 1136,
   "id": "4cac4dc1-6fa0-4870-bd9b-70af7b0f18c0",
   "metadata": {},
   "outputs": [
    {
     "data": {
      "text/html": [
       "<div>\n",
       "<style scoped>\n",
       "    .dataframe tbody tr th:only-of-type {\n",
       "        vertical-align: middle;\n",
       "    }\n",
       "\n",
       "    .dataframe tbody tr th {\n",
       "        vertical-align: top;\n",
       "    }\n",
       "\n",
       "    .dataframe thead th {\n",
       "        text-align: right;\n",
       "    }\n",
       "</style>\n",
       "<table border=\"1\" class=\"dataframe\">\n",
       "  <thead>\n",
       "    <tr style=\"text-align: right;\">\n",
       "      <th></th>\n",
       "      <th>provider_name</th>\n",
       "      <th>successful_claims</th>\n",
       "    </tr>\n",
       "  </thead>\n",
       "  <tbody>\n",
       "    <tr>\n",
       "      <th>0</th>\n",
       "      <td>Barry Group</td>\n",
       "      <td>25</td>\n",
       "    </tr>\n",
       "    <tr>\n",
       "      <th>1</th>\n",
       "      <td>Butler-Richardson</td>\n",
       "      <td>20</td>\n",
       "    </tr>\n",
       "    <tr>\n",
       "      <th>2</th>\n",
       "      <td>Barnes, Castro and Curtis</td>\n",
       "      <td>20</td>\n",
       "    </tr>\n",
       "    <tr>\n",
       "      <th>3</th>\n",
       "      <td>Miller Inc</td>\n",
       "      <td>20</td>\n",
       "    </tr>\n",
       "    <tr>\n",
       "      <th>4</th>\n",
       "      <td>Harper, Blake and Alexander</td>\n",
       "      <td>20</td>\n",
       "    </tr>\n",
       "    <tr>\n",
       "      <th>...</th>\n",
       "      <td>...</td>\n",
       "      <td>...</td>\n",
       "    </tr>\n",
       "    <tr>\n",
       "      <th>243</th>\n",
       "      <td>Myers, Kelley and Riley</td>\n",
       "      <td>5</td>\n",
       "    </tr>\n",
       "    <tr>\n",
       "      <th>244</th>\n",
       "      <td>Burns-Davis</td>\n",
       "      <td>5</td>\n",
       "    </tr>\n",
       "    <tr>\n",
       "      <th>245</th>\n",
       "      <td>Figueroa Inc</td>\n",
       "      <td>5</td>\n",
       "    </tr>\n",
       "    <tr>\n",
       "      <th>246</th>\n",
       "      <td>Nguyen-Parsons</td>\n",
       "      <td>5</td>\n",
       "    </tr>\n",
       "    <tr>\n",
       "      <th>247</th>\n",
       "      <td>Williams Inc</td>\n",
       "      <td>5</td>\n",
       "    </tr>\n",
       "  </tbody>\n",
       "</table>\n",
       "<p>248 rows × 2 columns</p>\n",
       "</div>"
      ],
      "text/plain": [
       "                   provider_name  successful_claims\n",
       "0                    Barry Group                 25\n",
       "1              Butler-Richardson                 20\n",
       "2      Barnes, Castro and Curtis                 20\n",
       "3                     Miller Inc                 20\n",
       "4    Harper, Blake and Alexander                 20\n",
       "..                           ...                ...\n",
       "243      Myers, Kelley and Riley                  5\n",
       "244                  Burns-Davis                  5\n",
       "245                 Figueroa Inc                  5\n",
       "246               Nguyen-Parsons                  5\n",
       "247                 Williams Inc                  5\n",
       "\n",
       "[248 rows x 2 columns]"
      ]
     },
     "metadata": {},
     "output_type": "display_data"
    }
   ],
   "source": [
    "# SQL query for top provider by successful (completed) claims\n",
    "query9 = \"\"\"\n",
    "SELECT p.name AS provider_name, COUNT(c.claim_id) AS successful_claims\n",
    "FROM claims c\n",
    "JOIN food_listings f ON c.food_id = f.food_id\n",
    "JOIN providers p ON f.provider_id = p.provider_id\n",
    "WHERE c.status = 'Completed'\n",
    "GROUP BY p.name\n",
    "ORDER BY successful_claims DESC;\n",
    "\"\"\"\n",
    "\n",
    "# Execute query\n",
    "top_providers_by_claims = pd.read_sql(query9, con=engine)\n",
    "\n",
    "# Display result\n",
    "display(top_providers_by_claims)\n"
   ]
  },
  {
   "cell_type": "markdown",
   "id": "e890d8d0-f307-4bc2-b21b-fd9695747494",
   "metadata": {},
   "source": [
    "#### ✅ Question 10: What percentage of food claims are Completed vs. Pending vs. Cancelled?"
   ]
  },
  {
   "cell_type": "code",
   "execution_count": 1139,
   "id": "af31d43c-032b-45d1-b2c4-e82a78362184",
   "metadata": {},
   "outputs": [
    {
     "data": {
      "text/html": [
       "<div>\n",
       "<style scoped>\n",
       "    .dataframe tbody tr th:only-of-type {\n",
       "        vertical-align: middle;\n",
       "    }\n",
       "\n",
       "    .dataframe tbody tr th {\n",
       "        vertical-align: top;\n",
       "    }\n",
       "\n",
       "    .dataframe thead th {\n",
       "        text-align: right;\n",
       "    }\n",
       "</style>\n",
       "<table border=\"1\" class=\"dataframe\">\n",
       "  <thead>\n",
       "    <tr style=\"text-align: right;\">\n",
       "      <th></th>\n",
       "      <th>status</th>\n",
       "      <th>total</th>\n",
       "      <th>percentage</th>\n",
       "    </tr>\n",
       "  </thead>\n",
       "  <tbody>\n",
       "    <tr>\n",
       "      <th>0</th>\n",
       "      <td>Completed</td>\n",
       "      <td>1695</td>\n",
       "      <td>33.9</td>\n",
       "    </tr>\n",
       "    <tr>\n",
       "      <th>1</th>\n",
       "      <td>Cancelled</td>\n",
       "      <td>1680</td>\n",
       "      <td>33.6</td>\n",
       "    </tr>\n",
       "    <tr>\n",
       "      <th>2</th>\n",
       "      <td>Pending</td>\n",
       "      <td>1625</td>\n",
       "      <td>32.5</td>\n",
       "    </tr>\n",
       "  </tbody>\n",
       "</table>\n",
       "</div>"
      ],
      "text/plain": [
       "      status  total  percentage\n",
       "0  Completed   1695        33.9\n",
       "1  Cancelled   1680        33.6\n",
       "2    Pending   1625        32.5"
      ]
     },
     "metadata": {},
     "output_type": "display_data"
    }
   ],
   "source": [
    "# SQL query to get count and percentage of each claim status\n",
    "query10 = \"\"\"\n",
    "SELECT status,\n",
    "       COUNT(*) AS total,\n",
    "       ROUND(100.0 * COUNT(*) / SUM(COUNT(*)) OVER (), 2) AS percentage\n",
    "FROM claims\n",
    "GROUP BY status\n",
    "ORDER BY percentage DESC;\n",
    "\"\"\"\n",
    "\n",
    "# Execute query\n",
    "claim_status_distribution = pd.read_sql(query10, con=engine)\n",
    "\n",
    "# Display result\n",
    "display(claim_status_distribution)\n"
   ]
  },
  {
   "cell_type": "markdown",
   "id": "07b350e4-9630-406e-abf8-8d51b1451d97",
   "metadata": {},
   "source": [
    "#### ✅ Question 11: What is the average quantity of food claimed per receiver?"
   ]
  },
  {
   "cell_type": "code",
   "execution_count": 1142,
   "id": "147e420d-9f24-461c-8cd5-7f829c92badf",
   "metadata": {},
   "outputs": [
    {
     "data": {
      "text/html": [
       "<div>\n",
       "<style scoped>\n",
       "    .dataframe tbody tr th:only-of-type {\n",
       "        vertical-align: middle;\n",
       "    }\n",
       "\n",
       "    .dataframe tbody tr th {\n",
       "        vertical-align: top;\n",
       "    }\n",
       "\n",
       "    .dataframe thead th {\n",
       "        text-align: right;\n",
       "    }\n",
       "</style>\n",
       "<table border=\"1\" class=\"dataframe\">\n",
       "  <thead>\n",
       "    <tr style=\"text-align: right;\">\n",
       "      <th></th>\n",
       "      <th>receiver_id</th>\n",
       "      <th>receiver_name</th>\n",
       "      <th>avg_quantity_claimed</th>\n",
       "    </tr>\n",
       "  </thead>\n",
       "  <tbody>\n",
       "    <tr>\n",
       "      <th>0</th>\n",
       "      <td>99</td>\n",
       "      <td>Nancy Silva</td>\n",
       "      <td>50.0</td>\n",
       "    </tr>\n",
       "    <tr>\n",
       "      <th>1</th>\n",
       "      <td>616</td>\n",
       "      <td>Christopher Wright</td>\n",
       "      <td>50.0</td>\n",
       "    </tr>\n",
       "    <tr>\n",
       "      <th>2</th>\n",
       "      <td>567</td>\n",
       "      <td>Peggy Knight</td>\n",
       "      <td>50.0</td>\n",
       "    </tr>\n",
       "    <tr>\n",
       "      <th>3</th>\n",
       "      <td>282</td>\n",
       "      <td>Lisa Pitts</td>\n",
       "      <td>50.0</td>\n",
       "    </tr>\n",
       "    <tr>\n",
       "      <th>4</th>\n",
       "      <td>982</td>\n",
       "      <td>Thomas Villanueva</td>\n",
       "      <td>50.0</td>\n",
       "    </tr>\n",
       "    <tr>\n",
       "      <th>...</th>\n",
       "      <td>...</td>\n",
       "      <td>...</td>\n",
       "      <td>...</td>\n",
       "    </tr>\n",
       "    <tr>\n",
       "      <th>619</th>\n",
       "      <td>214</td>\n",
       "      <td>Corey Rodriguez</td>\n",
       "      <td>2.0</td>\n",
       "    </tr>\n",
       "    <tr>\n",
       "      <th>620</th>\n",
       "      <td>766</td>\n",
       "      <td>John Reynolds</td>\n",
       "      <td>2.0</td>\n",
       "    </tr>\n",
       "    <tr>\n",
       "      <th>621</th>\n",
       "      <td>746</td>\n",
       "      <td>Kenneth Barnes</td>\n",
       "      <td>2.0</td>\n",
       "    </tr>\n",
       "    <tr>\n",
       "      <th>622</th>\n",
       "      <td>765</td>\n",
       "      <td>Joshua Hooper</td>\n",
       "      <td>1.0</td>\n",
       "    </tr>\n",
       "    <tr>\n",
       "      <th>623</th>\n",
       "      <td>904</td>\n",
       "      <td>Amanda Kline</td>\n",
       "      <td>1.0</td>\n",
       "    </tr>\n",
       "  </tbody>\n",
       "</table>\n",
       "<p>624 rows × 3 columns</p>\n",
       "</div>"
      ],
      "text/plain": [
       "     receiver_id       receiver_name  avg_quantity_claimed\n",
       "0             99         Nancy Silva                  50.0\n",
       "1            616  Christopher Wright                  50.0\n",
       "2            567        Peggy Knight                  50.0\n",
       "3            282          Lisa Pitts                  50.0\n",
       "4            982   Thomas Villanueva                  50.0\n",
       "..           ...                 ...                   ...\n",
       "619          214     Corey Rodriguez                   2.0\n",
       "620          766       John Reynolds                   2.0\n",
       "621          746      Kenneth Barnes                   2.0\n",
       "622          765       Joshua Hooper                   1.0\n",
       "623          904        Amanda Kline                   1.0\n",
       "\n",
       "[624 rows x 3 columns]"
      ]
     },
     "metadata": {},
     "output_type": "display_data"
    }
   ],
   "source": [
    "query11 = \"\"\"\n",
    "SELECT c.receiver_id,\n",
    "       r.name AS receiver_name,\n",
    "       ROUND(AVG(f.quantity), 2) AS avg_quantity_claimed\n",
    "FROM claims c\n",
    "JOIN food_listings f ON c.food_id = f.food_id\n",
    "JOIN receivers r ON c.receiver_id = r.receiver_id\n",
    "GROUP BY c.receiver_id, r.name\n",
    "ORDER BY avg_quantity_claimed DESC;\n",
    "\"\"\"\n",
    "\n",
    "# Execute query\n",
    "avg_quantity_per_receiver = pd.read_sql(query11, con=engine)\n",
    "\n",
    "# Display result\n",
    "display(avg_quantity_per_receiver)\n"
   ]
  },
  {
   "cell_type": "markdown",
   "id": "550459a7-93de-4106-8284-4482b96de167",
   "metadata": {},
   "source": [
    "#### ✅ Question 12: Which meal type (Breakfast, Lunch, Dinner, Snacks) is claimed the most?"
   ]
  },
  {
   "cell_type": "code",
   "execution_count": 1145,
   "id": "50a0a530-cdea-4ba5-be01-17274d54ea4f",
   "metadata": {},
   "outputs": [
    {
     "data": {
      "text/html": [
       "<div>\n",
       "<style scoped>\n",
       "    .dataframe tbody tr th:only-of-type {\n",
       "        vertical-align: middle;\n",
       "    }\n",
       "\n",
       "    .dataframe tbody tr th {\n",
       "        vertical-align: top;\n",
       "    }\n",
       "\n",
       "    .dataframe thead th {\n",
       "        text-align: right;\n",
       "    }\n",
       "</style>\n",
       "<table border=\"1\" class=\"dataframe\">\n",
       "  <thead>\n",
       "    <tr style=\"text-align: right;\">\n",
       "      <th></th>\n",
       "      <th>meal_type</th>\n",
       "      <th>total_claims</th>\n",
       "    </tr>\n",
       "  </thead>\n",
       "  <tbody>\n",
       "    <tr>\n",
       "      <th>0</th>\n",
       "      <td>Breakfast</td>\n",
       "      <td>1390</td>\n",
       "    </tr>\n",
       "    <tr>\n",
       "      <th>1</th>\n",
       "      <td>Lunch</td>\n",
       "      <td>1250</td>\n",
       "    </tr>\n",
       "    <tr>\n",
       "      <th>2</th>\n",
       "      <td>Snacks</td>\n",
       "      <td>1200</td>\n",
       "    </tr>\n",
       "    <tr>\n",
       "      <th>3</th>\n",
       "      <td>Dinner</td>\n",
       "      <td>1160</td>\n",
       "    </tr>\n",
       "  </tbody>\n",
       "</table>\n",
       "</div>"
      ],
      "text/plain": [
       "   meal_type  total_claims\n",
       "0  Breakfast          1390\n",
       "1      Lunch          1250\n",
       "2     Snacks          1200\n",
       "3     Dinner          1160"
      ]
     },
     "metadata": {},
     "output_type": "display_data"
    }
   ],
   "source": [
    "query12 = \"\"\"\n",
    "SELECT f.meal_type, COUNT(*) AS total_claims\n",
    "FROM claims c\n",
    "JOIN food_listings f ON c.food_id = f.food_id\n",
    "GROUP BY f.meal_type\n",
    "ORDER BY total_claims DESC;\n",
    "\"\"\"\n",
    "\n",
    "# Execute query\n",
    "most_claimed_meals = pd.read_sql(query12, con=engine)\n",
    "\n",
    "# Display result\n",
    "display(most_claimed_meals)\n"
   ]
  },
  {
   "cell_type": "markdown",
   "id": "1c11049d-484a-4389-ac50-cdc94d152888",
   "metadata": {},
   "source": [
    "#### ✅ Question 13: What is the total quantity of food donated by each provider?"
   ]
  },
  {
   "cell_type": "code",
   "execution_count": 1147,
   "id": "5bbfb6fa-e3bf-43d3-a21b-aa3ad5c299f2",
   "metadata": {},
   "outputs": [
    {
     "data": {
      "text/html": [
       "<div>\n",
       "<style scoped>\n",
       "    .dataframe tbody tr th:only-of-type {\n",
       "        vertical-align: middle;\n",
       "    }\n",
       "\n",
       "    .dataframe tbody tr th {\n",
       "        vertical-align: top;\n",
       "    }\n",
       "\n",
       "    .dataframe thead th {\n",
       "        text-align: right;\n",
       "    }\n",
       "</style>\n",
       "<table border=\"1\" class=\"dataframe\">\n",
       "  <thead>\n",
       "    <tr style=\"text-align: right;\">\n",
       "      <th></th>\n",
       "      <th>provider_id</th>\n",
       "      <th>provider_name</th>\n",
       "      <th>total_quantity_donated</th>\n",
       "    </tr>\n",
       "  </thead>\n",
       "  <tbody>\n",
       "    <tr>\n",
       "      <th>0</th>\n",
       "      <td>709</td>\n",
       "      <td>Barry Group</td>\n",
       "      <td>895</td>\n",
       "    </tr>\n",
       "    <tr>\n",
       "      <th>1</th>\n",
       "      <td>306</td>\n",
       "      <td>Evans, Wright and Mitchell</td>\n",
       "      <td>790</td>\n",
       "    </tr>\n",
       "    <tr>\n",
       "      <th>2</th>\n",
       "      <td>655</td>\n",
       "      <td>Smith Group</td>\n",
       "      <td>750</td>\n",
       "    </tr>\n",
       "    <tr>\n",
       "      <th>3</th>\n",
       "      <td>315</td>\n",
       "      <td>Nelson LLC</td>\n",
       "      <td>710</td>\n",
       "    </tr>\n",
       "    <tr>\n",
       "      <th>4</th>\n",
       "      <td>678</td>\n",
       "      <td>Ruiz-Oneal</td>\n",
       "      <td>700</td>\n",
       "    </tr>\n",
       "    <tr>\n",
       "      <th>...</th>\n",
       "      <td>...</td>\n",
       "      <td>...</td>\n",
       "      <td>...</td>\n",
       "    </tr>\n",
       "    <tr>\n",
       "      <th>632</th>\n",
       "      <td>258</td>\n",
       "      <td>Gonzales-Moore</td>\n",
       "      <td>5</td>\n",
       "    </tr>\n",
       "    <tr>\n",
       "      <th>633</th>\n",
       "      <td>870</td>\n",
       "      <td>Mcgee PLC</td>\n",
       "      <td>5</td>\n",
       "    </tr>\n",
       "    <tr>\n",
       "      <th>634</th>\n",
       "      <td>939</td>\n",
       "      <td>Reyes and Sons</td>\n",
       "      <td>5</td>\n",
       "    </tr>\n",
       "    <tr>\n",
       "      <th>635</th>\n",
       "      <td>849</td>\n",
       "      <td>Brown and Sons</td>\n",
       "      <td>5</td>\n",
       "    </tr>\n",
       "    <tr>\n",
       "      <th>636</th>\n",
       "      <td>184</td>\n",
       "      <td>Norris-Townsend</td>\n",
       "      <td>5</td>\n",
       "    </tr>\n",
       "  </tbody>\n",
       "</table>\n",
       "<p>637 rows × 3 columns</p>\n",
       "</div>"
      ],
      "text/plain": [
       "     provider_id               provider_name  total_quantity_donated\n",
       "0            709                 Barry Group                     895\n",
       "1            306  Evans, Wright and Mitchell                     790\n",
       "2            655                 Smith Group                     750\n",
       "3            315                  Nelson LLC                     710\n",
       "4            678                  Ruiz-Oneal                     700\n",
       "..           ...                         ...                     ...\n",
       "632          258              Gonzales-Moore                       5\n",
       "633          870                   Mcgee PLC                       5\n",
       "634          939              Reyes and Sons                       5\n",
       "635          849              Brown and Sons                       5\n",
       "636          184             Norris-Townsend                       5\n",
       "\n",
       "[637 rows x 3 columns]"
      ]
     },
     "metadata": {},
     "output_type": "display_data"
    }
   ],
   "source": [
    "query13 = \"\"\"\n",
    "SELECT pr.provider_id, pr.name AS provider_name, SUM(f.quantity) AS total_quantity_donated\n",
    "FROM food_listings f\n",
    "JOIN providers pr ON f.provider_id = pr.provider_id\n",
    "GROUP BY pr.provider_id, pr.name\n",
    "ORDER BY total_quantity_donated DESC;\n",
    "\"\"\"\n",
    "\n",
    "# Run the query\n",
    "donations_by_provider = pd.read_sql(query13, con=engine)\n",
    "\n",
    "# Display results\n",
    "display(donations_by_provider)\n"
   ]
  },
  {
   "cell_type": "markdown",
   "id": "ccce843e-e3ec-4d11-b4a6-7ce53594dae2",
   "metadata": {},
   "source": [
    "#### ❓ Q14: What is the average quantity of food claimed per receiver?"
   ]
  },
  {
   "cell_type": "code",
   "execution_count": 1149,
   "id": "92ee9450-b2b1-4e9c-8d22-0cf1d16193c4",
   "metadata": {},
   "outputs": [
    {
     "data": {
      "text/html": [
       "<div>\n",
       "<style scoped>\n",
       "    .dataframe tbody tr th:only-of-type {\n",
       "        vertical-align: middle;\n",
       "    }\n",
       "\n",
       "    .dataframe tbody tr th {\n",
       "        vertical-align: top;\n",
       "    }\n",
       "\n",
       "    .dataframe thead th {\n",
       "        text-align: right;\n",
       "    }\n",
       "</style>\n",
       "<table border=\"1\" class=\"dataframe\">\n",
       "  <thead>\n",
       "    <tr style=\"text-align: right;\">\n",
       "      <th></th>\n",
       "      <th>receiver_id</th>\n",
       "      <th>receiver_name</th>\n",
       "      <th>avg_quantity_claimed</th>\n",
       "    </tr>\n",
       "  </thead>\n",
       "  <tbody>\n",
       "    <tr>\n",
       "      <th>0</th>\n",
       "      <td>9</td>\n",
       "      <td>Emily Turner</td>\n",
       "      <td>50.0</td>\n",
       "    </tr>\n",
       "    <tr>\n",
       "      <th>1</th>\n",
       "      <td>585</td>\n",
       "      <td>Mark Lewis</td>\n",
       "      <td>50.0</td>\n",
       "    </tr>\n",
       "    <tr>\n",
       "      <th>2</th>\n",
       "      <td>28</td>\n",
       "      <td>Mary Franklin</td>\n",
       "      <td>50.0</td>\n",
       "    </tr>\n",
       "    <tr>\n",
       "      <th>3</th>\n",
       "      <td>102</td>\n",
       "      <td>Daniel Burton</td>\n",
       "      <td>50.0</td>\n",
       "    </tr>\n",
       "    <tr>\n",
       "      <th>4</th>\n",
       "      <td>99</td>\n",
       "      <td>Nancy Silva</td>\n",
       "      <td>50.0</td>\n",
       "    </tr>\n",
       "    <tr>\n",
       "      <th>...</th>\n",
       "      <td>...</td>\n",
       "      <td>...</td>\n",
       "      <td>...</td>\n",
       "    </tr>\n",
       "    <tr>\n",
       "      <th>288</th>\n",
       "      <td>460</td>\n",
       "      <td>Karen Stafford</td>\n",
       "      <td>2.0</td>\n",
       "    </tr>\n",
       "    <tr>\n",
       "      <th>289</th>\n",
       "      <td>968</td>\n",
       "      <td>Mr. Joseph Herring</td>\n",
       "      <td>2.0</td>\n",
       "    </tr>\n",
       "    <tr>\n",
       "      <th>290</th>\n",
       "      <td>904</td>\n",
       "      <td>Amanda Kline</td>\n",
       "      <td>1.0</td>\n",
       "    </tr>\n",
       "    <tr>\n",
       "      <th>291</th>\n",
       "      <td>608</td>\n",
       "      <td>Oscar Bauer</td>\n",
       "      <td>1.0</td>\n",
       "    </tr>\n",
       "    <tr>\n",
       "      <th>292</th>\n",
       "      <td>695</td>\n",
       "      <td>Janet Newton</td>\n",
       "      <td>1.0</td>\n",
       "    </tr>\n",
       "  </tbody>\n",
       "</table>\n",
       "<p>293 rows × 3 columns</p>\n",
       "</div>"
      ],
      "text/plain": [
       "     receiver_id       receiver_name  avg_quantity_claimed\n",
       "0              9        Emily Turner                  50.0\n",
       "1            585          Mark Lewis                  50.0\n",
       "2             28       Mary Franklin                  50.0\n",
       "3            102       Daniel Burton                  50.0\n",
       "4             99         Nancy Silva                  50.0\n",
       "..           ...                 ...                   ...\n",
       "288          460      Karen Stafford                   2.0\n",
       "289          968  Mr. Joseph Herring                   2.0\n",
       "290          904        Amanda Kline                   1.0\n",
       "291          608         Oscar Bauer                   1.0\n",
       "292          695        Janet Newton                   1.0\n",
       "\n",
       "[293 rows x 3 columns]"
      ]
     },
     "metadata": {},
     "output_type": "display_data"
    }
   ],
   "source": [
    "query14 = \"\"\"\n",
    "SELECT r.receiver_id, r.name AS receiver_name, AVG(f.quantity) AS avg_quantity_claimed\n",
    "FROM claims c\n",
    "JOIN food_listings f ON c.food_id = f.food_id\n",
    "JOIN receivers r ON c.receiver_id = r.receiver_id\n",
    "WHERE c.status = 'Completed'\n",
    "GROUP BY r.receiver_id, r.name\n",
    "ORDER BY avg_quantity_claimed DESC;\n",
    "\"\"\"\n",
    "\n",
    "# Execute the query\n",
    "avg_quantity_per_receiver = pd.read_sql(query14, con=engine)\n",
    "\n",
    "# Display the result\n",
    "display(avg_quantity_per_receiver)\n"
   ]
  },
  {
   "cell_type": "markdown",
   "id": "6bd1bc03-5b67-444e-b16e-1af641203b5b",
   "metadata": {},
   "source": [
    "#### ❓ Q15: Which meal type (breakfast, lunch, dinner, snacks) is claimed the most?"
   ]
  },
  {
   "cell_type": "code",
   "execution_count": 1151,
   "id": "4ad66a70-a2bd-4aff-a59d-32234b518383",
   "metadata": {},
   "outputs": [
    {
     "data": {
      "text/html": [
       "<div>\n",
       "<style scoped>\n",
       "    .dataframe tbody tr th:only-of-type {\n",
       "        vertical-align: middle;\n",
       "    }\n",
       "\n",
       "    .dataframe tbody tr th {\n",
       "        vertical-align: top;\n",
       "    }\n",
       "\n",
       "    .dataframe thead th {\n",
       "        text-align: right;\n",
       "    }\n",
       "</style>\n",
       "<table border=\"1\" class=\"dataframe\">\n",
       "  <thead>\n",
       "    <tr style=\"text-align: right;\">\n",
       "      <th></th>\n",
       "      <th>meal_type</th>\n",
       "      <th>claim_count</th>\n",
       "    </tr>\n",
       "  </thead>\n",
       "  <tbody>\n",
       "    <tr>\n",
       "      <th>0</th>\n",
       "      <td>Breakfast</td>\n",
       "      <td>475</td>\n",
       "    </tr>\n",
       "    <tr>\n",
       "      <th>1</th>\n",
       "      <td>Dinner</td>\n",
       "      <td>430</td>\n",
       "    </tr>\n",
       "    <tr>\n",
       "      <th>2</th>\n",
       "      <td>Lunch</td>\n",
       "      <td>420</td>\n",
       "    </tr>\n",
       "    <tr>\n",
       "      <th>3</th>\n",
       "      <td>Snacks</td>\n",
       "      <td>370</td>\n",
       "    </tr>\n",
       "  </tbody>\n",
       "</table>\n",
       "</div>"
      ],
      "text/plain": [
       "   meal_type  claim_count\n",
       "0  Breakfast          475\n",
       "1     Dinner          430\n",
       "2      Lunch          420\n",
       "3     Snacks          370"
      ]
     },
     "metadata": {},
     "output_type": "display_data"
    }
   ],
   "source": [
    "query15 = \"\"\"\n",
    "SELECT f.meal_type, COUNT(*) AS claim_count\n",
    "FROM claims c\n",
    "JOIN food_listings f ON c.food_id = f.food_id\n",
    "WHERE c.status = 'Completed'\n",
    "GROUP BY f.meal_type\n",
    "ORDER BY claim_count DESC;\n",
    "\"\"\"\n",
    "\n",
    "# Execute the query\n",
    "most_claimed_meal_type = pd.read_sql(query15, con=engine)\n",
    "\n",
    "# Display the result\n",
    "display(most_claimed_meal_type)\n"
   ]
  },
  {
   "cell_type": "markdown",
   "id": "2332dbec-1ef4-4f2a-b4a6-775b1d6f96f5",
   "metadata": {},
   "source": [
    "# 📈Data Visualization"
   ]
  },
  {
   "cell_type": "code",
   "execution_count": 1371,
   "id": "38b154a1-2d8d-4513-a43b-fe500054f024",
   "metadata": {},
   "outputs": [],
   "source": [
    "import matplotlib.pyplot as plt\n",
    "import seaborn as sns"
   ]
  },
  {
   "cell_type": "markdown",
   "id": "9b44213e-fcbd-42a6-ba73-c3bc160a0409",
   "metadata": {},
   "source": [
    "### 1.Food providers and receivers are there in each city"
   ]
  },
  {
   "cell_type": "code",
   "execution_count": 1374,
   "id": "69efc415-48e5-4b4c-9c38-84ef772ce217",
   "metadata": {},
   "outputs": [],
   "source": [
    "query1 = \"\"\"\n",
    "SELECT \n",
    "    COALESCE(p.city, r.city) AS city,\n",
    "    COUNT(DISTINCT p.provider_id) AS num_providers,\n",
    "    COUNT(DISTINCT r.receiver_id) AS num_receivers\n",
    "FROM providers p\n",
    "FULL JOIN receivers r ON p.city = r.city\n",
    "GROUP BY COALESCE(p.city, r.city)\n",
    "ORDER BY city;\n",
    "\"\"\"\n",
    "\n",
    "city_counts_df = pd.read_sql(query1, con=engine)"
   ]
  },
  {
   "cell_type": "code",
   "execution_count": 1376,
   "id": "64d47f90-84c0-48a8-97bf-b6bf2b3a8558",
   "metadata": {},
   "outputs": [
    {
     "data": {
      "image/png": "[encoded data removed]",
      "text/plain": [
       "<Figure size 1400x600 with 1 Axes>"
      ]
     },
     "metadata": {},
     "output_type": "display_data"
    }
   ],
   "source": [
    "# Optional: show only top 15 cities for clarity\n",
    "top_cities = city_counts_df.sort_values(\n",
    "    by=['num_providers', 'num_receivers'], ascending=False).head(15)\n",
    "\n",
    "# Set plot style\n",
    "plt.figure(figsize=(14, 6))\n",
    "x = top_cities['city']\n",
    "p = top_cities['num_providers']\n",
    "r = top_cities['num_receivers']\n",
    "\n",
    "# Plot both bars side by side\n",
    "bar_width = 0.4\n",
    "index = range(len(top_cities))\n",
    "\n",
    "plt.bar(index, p, width=bar_width, label='Providers', color='skyblue')\n",
    "plt.bar([i + bar_width for i in index], r, width=bar_width, label='Receivers', color='orange')\n",
    "\n",
    "# Customize plot\n",
    "plt.xlabel('City')\n",
    "plt.ylabel('Count')\n",
    "plt.title('Top 15 Cities by Number of Providers and Receivers')\n",
    "plt.xticks([i + bar_width/2 for i in index], x, rotation=45, ha='right')\n",
    "plt.legend()\n",
    "plt.tight_layout()\n",
    "plt.show()\n"
   ]
  },
  {
   "cell_type": "markdown",
   "id": "3587fea0-4435-4417-8cc3-fbdcb5a313ce",
   "metadata": {},
   "source": [
    "### 2.Number of Claims per Food Type"
   ]
  },
  {
   "cell_type": "code",
   "execution_count": 1379,
   "id": "9428c378-6ba0-405e-bf35-70750ff3cbad",
   "metadata": {},
   "outputs": [
    {
     "data": {
      "image/png": "[encoded data removed]",
      "text/plain": [
       "<Figure size 800x500 with 1 Axes>"
      ]
     },
     "metadata": {},
     "output_type": "display_data"
    }
   ],
   "source": [
    "plt.figure(figsize=(8, 5))\n",
    "sns.barplot(\n",
    "    data=category_claims_df,\n",
    "    x='food_type',\n",
    "    y='total_claims',\n",
    "    hue='food_type',         # Assigning x to hue\n",
    "    palette='pastel',\n",
    "    legend=False             # Hides redundant legend\n",
    ")\n",
    "plt.title('Total Claims by Food Type')\n",
    "plt.xlabel('Food Type')\n",
    "plt.ylabel('Number of Claims')\n",
    "plt.xticks(rotation=20)\n",
    "plt.tight_layout()\n",
    "plt.show()\n"
   ]
  },
  {
   "cell_type": "markdown",
   "id": "fe9f3bd0-900e-4f21-bde0-6360bbaf6247",
   "metadata": {},
   "source": [
    "###  3.Top 10 Most Frequently Donated Food Items"
   ]
  },
  {
   "cell_type": "code",
   "execution_count": 1382,
   "id": "66425d05-047d-46ec-a07b-ade90831ebe8",
   "metadata": {},
   "outputs": [
    {
     "data": {
      "image/png": "[encoded data removed]",
      "text/plain": [
       "<Figure size 1000x600 with 1 Axes>"
      ]
     },
     "metadata": {},
     "output_type": "display_data"
    }
   ],
   "source": [
    "query4 = \"\"\"\n",
    "SELECT food_name, COUNT(*) AS total_donations\n",
    "FROM food_listings\n",
    "GROUP BY food_name\n",
    "ORDER BY total_donations DESC\n",
    "LIMIT 10;\n",
    "\"\"\"\n",
    "\n",
    "top_foods_df = pd.read_sql(query4, con=engine)\n",
    "\n",
    "plt.figure(figsize=(10, 6))\n",
    "sns.barplot(data=top_foods_df, x='total_donations', y='food_name', hue='food_name', palette='Set2', legend=False)\n",
    "plt.title('Top 10 Most Frequently Donated Food Items')\n",
    "plt.xlabel('Total Donations')\n",
    "plt.ylabel('Food Item')\n",
    "plt.tight_layout()\n",
    "plt.show()"
   ]
  },
  {
   "cell_type": "markdown",
   "id": "a766769f-8049-491c-a75a-7a0a62fb6964",
   "metadata": {},
   "source": [
    "### 4. Distribution of Food Donations by Category"
   ]
  },
  {
   "cell_type": "code",
   "execution_count": 1385,
   "id": "581266c2-5973-4152-8f82-06689a670c86",
   "metadata": {},
   "outputs": [
    {
     "data": {
      "image/png": "[encoded data removed]",
      "text/plain": [
       "<Figure size 800x800 with 1 Axes>"
      ]
     },
     "metadata": {},
     "output_type": "display_data"
    }
   ],
   "source": [
    "query_pie = \"\"\"\n",
    "SELECT food_type, SUM(quantity) AS total_quantity\n",
    "FROM food_listings\n",
    "GROUP BY food_type;\n",
    "\"\"\"\n",
    "\n",
    "pie_df = pd.read_sql(query_pie, con=engine)\n",
    "\n",
    "# Plot pie chart\n",
    "plt.figure(figsize=(8, 8))\n",
    "plt.pie(pie_df['total_quantity'], labels=pie_df['food_type'], autopct='%1.1f%%', startangle=140, colors=sns.color_palette('Set3'))\n",
    "plt.title('Distribution of Food Donations by Food Type')\n",
    "plt.axis('equal')  # Equal aspect ratio ensures that pie is drawn as a circle.\n",
    "plt.show()\n"
   ]
  },
  {
   "cell_type": "markdown",
   "id": "02654192-45e6-4931-8664-cc3f3b5f1265",
   "metadata": {},
   "source": [
    "### 📈 5. Monthly Trend of Food Quantity Donated"
   ]
  },
  {
   "cell_type": "code",
   "execution_count": 1392,
   "id": "91cb982a-f9e4-465b-bce3-cf0fbd3ddcac",
   "metadata": {},
   "outputs": [
    {
     "data": {
      "image/png": "[encoded data removed]",
      "text/plain": [
       "<Figure size 1200x600 with 1 Axes>"
      ]
     },
     "metadata": {},
     "output_type": "display_data"
    }
   ],
   "source": [
    "query_line = \"\"\"\n",
    "SELECT DATE_TRUNC('month', expiry_date) AS donation_month, SUM(quantity) AS total_quantity\n",
    "FROM food_listings\n",
    "GROUP BY donation_month\n",
    "ORDER BY donation_month;\n",
    "\"\"\"\n",
    "\n",
    "line_df = pd.read_sql(query_line, con=engine)\n",
    "\n",
    "# Plot with enhancements\n",
    "plt.figure(figsize=(12, 6))\n",
    "sns.set_theme(style=\"whitegrid\")\n",
    "\n",
    "sns.lineplot(\n",
    "    data=line_df,\n",
    "    x='donation_month',\n",
    "    y='total_quantity',\n",
    "    marker='o',\n",
    "    color='dodgerblue',\n",
    "    linewidth=2.5\n",
    ")\n",
    "\n",
    "# Format x-axis as month names\n",
    "plt.gca().xaxis.set_major_formatter(mdates.DateFormatter('%b %Y'))\n",
    "plt.gca().xaxis.set_major_locator(mdates.MonthLocator(interval=1))\n",
    "\n",
    "plt.title('Monthly Trend of Food Quantity Donated', fontsize=16)\n",
    "plt.xlabel('Month', fontsize=12)\n",
    "plt.ylabel('Total Quantity Donated', fontsize=12)\n",
    "plt.xticks(rotation=45)\n",
    "plt.tight_layout()\n",
    "plt.show()\n"
   ]
  },
  {
   "cell_type": "code",
   "execution_count": null,
   "id": "45daf0a4-359e-4d94-826b-f658700bbe06",
   "metadata": {},
   "outputs": [],
   "source": []
  }
 ],
 "metadata": {
  "kernelspec": {
   "display_name": "Python [conda env:base] *",
   "language": "python",
   "name": "conda-base-py"
  },
  "language_info": {
   "codemirror_mode": {
    "name": "ipython",
    "version": 3
   },
   "file_extension": ".py",
   "mimetype": "text/x-python",
   "name": "python",
   "nbconvert_exporter": "python",
   "pygments_lexer": "ipython3",
   "version": "3.12.7"
  }
 },
 "nbformat": 4,
 "nbformat_minor": 5
}
